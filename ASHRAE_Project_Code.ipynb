{
  "nbformat": 4,
  "nbformat_minor": 0,
  "metadata": {
    "colab": {
      "name": "ProjetDL_lstm.ipynb",
      "provenance": [],
      "collapsed_sections": [],
      "machine_shape": "hm"
    },
    "kernelspec": {
      "name": "python3",
      "display_name": "Python 3"
    },
    "accelerator": "GPU"
  },
  "cells": [
    {
      "cell_type": "code",
      "metadata": {
        "id": "fBeSejQirXvU",
        "colab_type": "code",
        "outputId": "bb28e18a-78f1-45c5-8b01-ae59786393e8",
        "colab": {
          "base_uri": "https://localhost:8080/",
          "height": 224
        }
      },
      "source": [
        "!pip install kaggle"
      ],
      "execution_count": 2,
      "outputs": [
        {
          "output_type": "stream",
          "text": [
            "Requirement already satisfied: kaggle in /usr/local/lib/python3.6/dist-packages (1.5.6)\n",
            "Requirement already satisfied: python-dateutil in /usr/local/lib/python3.6/dist-packages (from kaggle) (2.6.1)\n",
            "Requirement already satisfied: six>=1.10 in /usr/local/lib/python3.6/dist-packages (from kaggle) (1.12.0)\n",
            "Requirement already satisfied: python-slugify in /usr/local/lib/python3.6/dist-packages (from kaggle) (4.0.0)\n",
            "Requirement already satisfied: urllib3<1.25,>=1.21.1 in /usr/local/lib/python3.6/dist-packages (from kaggle) (1.24.3)\n",
            "Requirement already satisfied: certifi in /usr/local/lib/python3.6/dist-packages (from kaggle) (2019.11.28)\n",
            "Requirement already satisfied: requests in /usr/local/lib/python3.6/dist-packages (from kaggle) (2.21.0)\n",
            "Requirement already satisfied: tqdm in /usr/local/lib/python3.6/dist-packages (from kaggle) (4.28.1)\n",
            "Requirement already satisfied: text-unidecode>=1.3 in /usr/local/lib/python3.6/dist-packages (from python-slugify->kaggle) (1.3)\n",
            "Requirement already satisfied: chardet<3.1.0,>=3.0.2 in /usr/local/lib/python3.6/dist-packages (from requests->kaggle) (3.0.4)\n",
            "Requirement already satisfied: idna<2.9,>=2.5 in /usr/local/lib/python3.6/dist-packages (from requests->kaggle) (2.8)\n"
          ],
          "name": "stdout"
        }
      ]
    },
    {
      "cell_type": "code",
      "metadata": {
        "id": "RpfYlZ3OsZEV",
        "colab_type": "code",
        "outputId": "2acf0bd9-2b0c-45fc-c6f5-83673e011284",
        "colab": {
          "resources": {
            "http://localhost:8080/nbextensions/google.colab/files.js": {
              "data": "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",
              "ok": true,
              "headers": [
                [
                  "content-type",
                  "application/javascript"
                ]
              ],
              "status": 200,
              "status_text": ""
            }
          },
          "base_uri": "https://localhost:8080/",
          "height": 91
        }
      },
      "source": [
        "from google.colab import files\n",
        "files.upload()\n"
      ],
      "execution_count": 3,
      "outputs": [
        {
          "output_type": "display_data",
          "data": {
            "text/html": [
              "\n",
              "     <input type=\"file\" id=\"files-e0162d59-3405-453a-8d60-ebdb7ed4643e\" name=\"files[]\" multiple disabled />\n",
              "     <output id=\"result-e0162d59-3405-453a-8d60-ebdb7ed4643e\">\n",
              "      Upload widget is only available when the cell has been executed in the\n",
              "      current browser session. Please rerun this cell to enable.\n",
              "      </output>\n",
              "      <script src=\"/nbextensions/google.colab/files.js\"></script> "
            ],
            "text/plain": [
              "<IPython.core.display.HTML object>"
            ]
          },
          "metadata": {
            "tags": []
          }
        },
        {
          "output_type": "stream",
          "text": [
            "Saving kaggle.json to kaggle.json\n"
          ],
          "name": "stdout"
        },
        {
          "output_type": "execute_result",
          "data": {
            "text/plain": [
              "{'kaggle.json': b'{\"username\":\"manelfourati\",\"key\":\"bb56de20ed9465660ea0b820fe10da5a\"}'}"
            ]
          },
          "metadata": {
            "tags": []
          },
          "execution_count": 3
        }
      ]
    },
    {
      "cell_type": "code",
      "metadata": {
        "id": "KtRFWRYbsjdY",
        "colab_type": "code",
        "colab": {}
      },
      "source": [
        "!mkdir -p ~/.kaggle\n",
        "!cp kaggle.json ~/.kaggle\n",
        "!chmod 600 ~/.kaggle/kaggle.json"
      ],
      "execution_count": 0,
      "outputs": []
    },
    {
      "cell_type": "code",
      "metadata": {
        "id": "vHGxwIaTu30x",
        "colab_type": "code",
        "outputId": "f33a06d8-b4c1-49f3-a6dd-2171fd570fac",
        "colab": {
          "base_uri": "https://localhost:8080/",
          "height": 340
        }
      },
      "source": [
        "!kaggle competitions download -c ashrae-energy-prediction"
      ],
      "execution_count": 5,
      "outputs": [
        {
          "output_type": "stream",
          "text": [
            "Warning: Looks like you're using an outdated API Version, please consider updating (server 1.5.6 / client 1.5.4)\n",
            "Downloading sample_submission.csv.zip to /content\n",
            " 86% 76.0M/88.4M [00:01<00:00, 43.9MB/s]\n",
            "100% 88.4M/88.4M [00:01<00:00, 73.2MB/s]\n",
            "Downloading building_metadata.csv to /content\n",
            "  0% 0.00/44.5k [00:00<?, ?B/s]\n",
            "100% 44.5k/44.5k [00:00<00:00, 38.6MB/s]\n",
            "Downloading train.csv.zip to /content\n",
            " 97% 116M/120M [00:02<00:00, 46.3MB/s]\n",
            "100% 120M/120M [00:02<00:00, 53.0MB/s]\n",
            "Downloading test.csv.zip to /content\n",
            " 94% 156M/167M [00:03<00:00, 43.4MB/s]\n",
            "100% 167M/167M [00:03<00:00, 48.8MB/s]\n",
            "Downloading weather_test.csv.zip to /content\n",
            "  0% 0.00/2.53M [00:00<?, ?B/s]\n",
            "100% 2.53M/2.53M [00:00<00:00, 168MB/s]\n",
            "Downloading weather_train.csv.zip to /content\n",
            "  0% 0.00/1.27M [00:00<?, ?B/s]\n",
            "100% 1.27M/1.27M [00:00<00:00, 87.2MB/s]\n"
          ],
          "name": "stdout"
        }
      ]
    },
    {
      "cell_type": "code",
      "metadata": {
        "id": "NV2pfdffqIk5",
        "colab_type": "code",
        "outputId": "18b9fcc3-39d1-44aa-9ed0-86e18abd6f10",
        "colab": {
          "base_uri": "https://localhost:8080/",
          "height": 97
        }
      },
      "source": [
        "import pandas as pd\n",
        "import matplotlib.pyplot as plt\n",
        "import numpy as np \n",
        "import math\n",
        "from numpy import array\n",
        "import seaborn as sns\n",
        "from sklearn.metrics import mean_squared_error\n",
        "from keras.models import Sequential\n",
        "from keras.layers import Dense, Activation, Dropout\n",
        "from keras.layers import LSTM"
      ],
      "execution_count": 6,
      "outputs": [
        {
          "output_type": "stream",
          "text": [
            "Using TensorFlow backend.\n"
          ],
          "name": "stderr"
        },
        {
          "output_type": "display_data",
          "data": {
            "text/html": [
              "<p style=\"color: red;\">\n",
              "The default version of TensorFlow in Colab will soon switch to TensorFlow 2.x.<br>\n",
              "We recommend you <a href=\"https://www.tensorflow.org/guide/migrate\" target=\"_blank\">upgrade</a> now \n",
              "or ensure your notebook will continue to use TensorFlow 1.x via the <code>%tensorflow_version 1.x</code> magic:\n",
              "<a href=\"https://colab.research.google.com/notebooks/tensorflow_version.ipynb\" target=\"_blank\">more info</a>.</p>\n"
            ],
            "text/plain": [
              "<IPython.core.display.HTML object>"
            ]
          },
          "metadata": {
            "tags": []
          }
        }
      ]
    },
    {
      "cell_type": "code",
      "metadata": {
        "id": "wW5-cBOPvNo0",
        "colab_type": "code",
        "colab": {}
      },
      "source": [
        ""
      ],
      "execution_count": 0,
      "outputs": []
    },
    {
      "cell_type": "markdown",
      "metadata": {
        "id": "H49nujE_vZ_R",
        "colab_type": "text"
      },
      "source": [
        "# **Loading** **Data** \n"
      ]
    },
    {
      "cell_type": "code",
      "metadata": {
        "id": "8DM547aAwU3g",
        "colab_type": "code",
        "colab": {}
      },
      "source": [
        "train_df=pd.read_csv('train.csv.zip', sep=',')\n",
        "test_df=pd.read_csv('test.csv.zip',sep=',')\n",
        "building_df=pd.read_csv('building_metadata.csv', sep=',')\n",
        "weather_train_df=pd.read_csv('weather_train.csv.zip',sep=',')\n",
        "weather_test_df=pd.read_csv('weather_test.csv.zip',sep=',')"
      ],
      "execution_count": 0,
      "outputs": []
    },
    {
      "cell_type": "markdown",
      "metadata": {
        "id": "p1iaDvkHBCEx",
        "colab_type": "text"
      },
      "source": [
        "# **Saving Memory_usage**"
      ]
    },
    {
      "cell_type": "code",
      "metadata": {
        "id": "sKOmv8-RAUIR",
        "colab_type": "code",
        "colab": {}
      },
      "source": [
        "#To reduce some numeric types \n",
        "def reduce_memory_usage(df, verbose=True):\n",
        "    numerics = ['int16', 'int32', 'int64', 'float16', 'float32', 'float64']\n",
        "    start_mem = df.memory_usage().sum() / 1024**2    \n",
        "    for col in df.columns:\n",
        "        col_type = df[col].dtypes\n",
        "        if col_type in numerics:\n",
        "            c_min = df[col].min()\n",
        "            c_max = df[col].max()\n",
        "            if str(col_type)[:3] == 'int':\n",
        "                if c_min > np.iinfo(np.int8).min and c_max < np.iinfo(np.int8).max:\n",
        "                    df[col] = df[col].astype(np.int8)\n",
        "                elif c_min > np.iinfo(np.int16).min and c_max < np.iinfo(np.int16).max:\n",
        "                    df[col] = df[col].astype(np.int16)\n",
        "                elif c_min > np.iinfo(np.int32).min and c_max < np.iinfo(np.int32).max:\n",
        "                    df[col] = df[col].astype(np.int32)\n",
        "                elif c_min > np.iinfo(np.int64).min and c_max < np.iinfo(np.int64).max:\n",
        "                    df[col] = df[col].astype(np.int64)  \n",
        "            else:\n",
        "                if c_min > np.finfo(np.float16).min and c_max < np.finfo(np.float16).max:\n",
        "                    df[col] = df[col].astype(np.float16)\n",
        "                elif c_min > np.finfo(np.float32).min and c_max < np.finfo(np.float32).max:\n",
        "                    df[col] = df[col].astype(np.float32)\n",
        "                else:\n",
        "                    df[col] = df[col].astype(np.float64)    \n",
        "    end_mem = df.memory_usage().sum() / 1024**2\n",
        "    if verbose: print('Mem. usage decreased to {:5.2f} Mb ({:.1f}% reduction)'.format(end_mem, 100 * (start_mem - end_mem) / start_mem))\n",
        "    return df"
      ],
      "execution_count": 0,
      "outputs": []
    },
    {
      "cell_type": "code",
      "metadata": {
        "id": "HA6c8B66A7nk",
        "colab_type": "code",
        "outputId": "8e01e422-c160-4034-9a0c-1ba3ce6d31a6",
        "colab": {
          "base_uri": "https://localhost:8080/",
          "height": 864
        }
      },
      "source": [
        "reduce_memory_usage(building_df)\n",
        "reduce_memory_usage(weather_train_df)\n",
        "reduce_memory_usage(test_df)\n",
        "reduce_memory_usage(train_df)\n",
        "reduce_memory_usage(weather_test_df)"
      ],
      "execution_count": 9,
      "outputs": [
        {
          "output_type": "stream",
          "text": [
            "Mem. usage decreased to  0.03 Mb (60.3% reduction)\n",
            "Mem. usage decreased to  3.07 Mb (68.1% reduction)\n",
            "Mem. usage decreased to 596.49 Mb (53.1% reduction)\n",
            "Mem. usage decreased to 289.19 Mb (53.1% reduction)\n",
            "Mem. usage decreased to  6.08 Mb (68.1% reduction)\n"
          ],
          "name": "stdout"
        },
        {
          "output_type": "execute_result",
          "data": {
            "text/html": [
              "<div>\n",
              "<style scoped>\n",
              "    .dataframe tbody tr th:only-of-type {\n",
              "        vertical-align: middle;\n",
              "    }\n",
              "\n",
              "    .dataframe tbody tr th {\n",
              "        vertical-align: top;\n",
              "    }\n",
              "\n",
              "    .dataframe thead th {\n",
              "        text-align: right;\n",
              "    }\n",
              "</style>\n",
              "<table border=\"1\" class=\"dataframe\">\n",
              "  <thead>\n",
              "    <tr style=\"text-align: right;\">\n",
              "      <th></th>\n",
              "      <th>site_id</th>\n",
              "      <th>timestamp</th>\n",
              "      <th>air_temperature</th>\n",
              "      <th>cloud_coverage</th>\n",
              "      <th>dew_temperature</th>\n",
              "      <th>precip_depth_1_hr</th>\n",
              "      <th>sea_level_pressure</th>\n",
              "      <th>wind_direction</th>\n",
              "      <th>wind_speed</th>\n",
              "    </tr>\n",
              "  </thead>\n",
              "  <tbody>\n",
              "    <tr>\n",
              "      <th>0</th>\n",
              "      <td>0</td>\n",
              "      <td>2017-01-01 00:00:00</td>\n",
              "      <td>17.796875</td>\n",
              "      <td>4.0</td>\n",
              "      <td>11.703125</td>\n",
              "      <td>NaN</td>\n",
              "      <td>1021.5</td>\n",
              "      <td>100.0</td>\n",
              "      <td>3.599609</td>\n",
              "    </tr>\n",
              "    <tr>\n",
              "      <th>1</th>\n",
              "      <td>0</td>\n",
              "      <td>2017-01-01 01:00:00</td>\n",
              "      <td>17.796875</td>\n",
              "      <td>2.0</td>\n",
              "      <td>12.796875</td>\n",
              "      <td>0.0</td>\n",
              "      <td>1022.0</td>\n",
              "      <td>130.0</td>\n",
              "      <td>3.099609</td>\n",
              "    </tr>\n",
              "    <tr>\n",
              "      <th>2</th>\n",
              "      <td>0</td>\n",
              "      <td>2017-01-01 02:00:00</td>\n",
              "      <td>16.093750</td>\n",
              "      <td>0.0</td>\n",
              "      <td>12.796875</td>\n",
              "      <td>0.0</td>\n",
              "      <td>1022.0</td>\n",
              "      <td>140.0</td>\n",
              "      <td>3.099609</td>\n",
              "    </tr>\n",
              "    <tr>\n",
              "      <th>3</th>\n",
              "      <td>0</td>\n",
              "      <td>2017-01-01 03:00:00</td>\n",
              "      <td>17.203125</td>\n",
              "      <td>0.0</td>\n",
              "      <td>13.296875</td>\n",
              "      <td>0.0</td>\n",
              "      <td>1022.0</td>\n",
              "      <td>140.0</td>\n",
              "      <td>3.099609</td>\n",
              "    </tr>\n",
              "    <tr>\n",
              "      <th>4</th>\n",
              "      <td>0</td>\n",
              "      <td>2017-01-01 04:00:00</td>\n",
              "      <td>16.703125</td>\n",
              "      <td>2.0</td>\n",
              "      <td>13.296875</td>\n",
              "      <td>0.0</td>\n",
              "      <td>1022.5</td>\n",
              "      <td>130.0</td>\n",
              "      <td>2.599609</td>\n",
              "    </tr>\n",
              "    <tr>\n",
              "      <th>...</th>\n",
              "      <td>...</td>\n",
              "      <td>...</td>\n",
              "      <td>...</td>\n",
              "      <td>...</td>\n",
              "      <td>...</td>\n",
              "      <td>...</td>\n",
              "      <td>...</td>\n",
              "      <td>...</td>\n",
              "      <td>...</td>\n",
              "    </tr>\n",
              "    <tr>\n",
              "      <th>277238</th>\n",
              "      <td>15</td>\n",
              "      <td>2018-12-31 19:00:00</td>\n",
              "      <td>3.300781</td>\n",
              "      <td>NaN</td>\n",
              "      <td>1.700195</td>\n",
              "      <td>NaN</td>\n",
              "      <td>1018.5</td>\n",
              "      <td>150.0</td>\n",
              "      <td>7.699219</td>\n",
              "    </tr>\n",
              "    <tr>\n",
              "      <th>277239</th>\n",
              "      <td>15</td>\n",
              "      <td>2018-12-31 20:00:00</td>\n",
              "      <td>2.800781</td>\n",
              "      <td>NaN</td>\n",
              "      <td>1.099609</td>\n",
              "      <td>NaN</td>\n",
              "      <td>1018.0</td>\n",
              "      <td>140.0</td>\n",
              "      <td>5.101562</td>\n",
              "    </tr>\n",
              "    <tr>\n",
              "      <th>277240</th>\n",
              "      <td>15</td>\n",
              "      <td>2018-12-31 21:00:00</td>\n",
              "      <td>2.800781</td>\n",
              "      <td>NaN</td>\n",
              "      <td>1.700195</td>\n",
              "      <td>-1.0</td>\n",
              "      <td>1017.0</td>\n",
              "      <td>140.0</td>\n",
              "      <td>6.199219</td>\n",
              "    </tr>\n",
              "    <tr>\n",
              "      <th>277241</th>\n",
              "      <td>15</td>\n",
              "      <td>2018-12-31 22:00:00</td>\n",
              "      <td>2.800781</td>\n",
              "      <td>NaN</td>\n",
              "      <td>2.199219</td>\n",
              "      <td>8.0</td>\n",
              "      <td>1016.0</td>\n",
              "      <td>140.0</td>\n",
              "      <td>5.101562</td>\n",
              "    </tr>\n",
              "    <tr>\n",
              "      <th>277242</th>\n",
              "      <td>15</td>\n",
              "      <td>2018-12-31 23:00:00</td>\n",
              "      <td>3.300781</td>\n",
              "      <td>NaN</td>\n",
              "      <td>2.199219</td>\n",
              "      <td>20.0</td>\n",
              "      <td>1014.5</td>\n",
              "      <td>140.0</td>\n",
              "      <td>5.101562</td>\n",
              "    </tr>\n",
              "  </tbody>\n",
              "</table>\n",
              "<p>277243 rows × 9 columns</p>\n",
              "</div>"
            ],
            "text/plain": [
              "        site_id            timestamp  ...  wind_direction  wind_speed\n",
              "0             0  2017-01-01 00:00:00  ...           100.0    3.599609\n",
              "1             0  2017-01-01 01:00:00  ...           130.0    3.099609\n",
              "2             0  2017-01-01 02:00:00  ...           140.0    3.099609\n",
              "3             0  2017-01-01 03:00:00  ...           140.0    3.099609\n",
              "4             0  2017-01-01 04:00:00  ...           130.0    2.599609\n",
              "...         ...                  ...  ...             ...         ...\n",
              "277238       15  2018-12-31 19:00:00  ...           150.0    7.699219\n",
              "277239       15  2018-12-31 20:00:00  ...           140.0    5.101562\n",
              "277240       15  2018-12-31 21:00:00  ...           140.0    6.199219\n",
              "277241       15  2018-12-31 22:00:00  ...           140.0    5.101562\n",
              "277242       15  2018-12-31 23:00:00  ...           140.0    5.101562\n",
              "\n",
              "[277243 rows x 9 columns]"
            ]
          },
          "metadata": {
            "tags": []
          },
          "execution_count": 9
        }
      ]
    },
    {
      "cell_type": "markdown",
      "metadata": {
        "id": "E_uUp3LHz0Pn",
        "colab_type": "text"
      },
      "source": [
        "# **data** **visualization**\n",
        "\n"
      ]
    },
    {
      "cell_type": "code",
      "metadata": {
        "id": "Vl1gjqPswVEs",
        "colab_type": "code",
        "outputId": "2d71f59b-8335-439e-b95e-4cf64e245f7f",
        "colab": {
          "base_uri": "https://localhost:8080/",
          "height": 204
        }
      },
      "source": [
        "train_df.head()"
      ],
      "execution_count": 0,
      "outputs": [
        {
          "output_type": "execute_result",
          "data": {
            "text/html": [
              "<div>\n",
              "<style scoped>\n",
              "    .dataframe tbody tr th:only-of-type {\n",
              "        vertical-align: middle;\n",
              "    }\n",
              "\n",
              "    .dataframe tbody tr th {\n",
              "        vertical-align: top;\n",
              "    }\n",
              "\n",
              "    .dataframe thead th {\n",
              "        text-align: right;\n",
              "    }\n",
              "</style>\n",
              "<table border=\"1\" class=\"dataframe\">\n",
              "  <thead>\n",
              "    <tr style=\"text-align: right;\">\n",
              "      <th></th>\n",
              "      <th>building_id</th>\n",
              "      <th>meter</th>\n",
              "      <th>timestamp</th>\n",
              "      <th>meter_reading</th>\n",
              "    </tr>\n",
              "  </thead>\n",
              "  <tbody>\n",
              "    <tr>\n",
              "      <th>0</th>\n",
              "      <td>0</td>\n",
              "      <td>0</td>\n",
              "      <td>2016-01-01 00:00:00</td>\n",
              "      <td>0.0</td>\n",
              "    </tr>\n",
              "    <tr>\n",
              "      <th>1</th>\n",
              "      <td>1</td>\n",
              "      <td>0</td>\n",
              "      <td>2016-01-01 00:00:00</td>\n",
              "      <td>0.0</td>\n",
              "    </tr>\n",
              "    <tr>\n",
              "      <th>2</th>\n",
              "      <td>2</td>\n",
              "      <td>0</td>\n",
              "      <td>2016-01-01 00:00:00</td>\n",
              "      <td>0.0</td>\n",
              "    </tr>\n",
              "    <tr>\n",
              "      <th>3</th>\n",
              "      <td>3</td>\n",
              "      <td>0</td>\n",
              "      <td>2016-01-01 00:00:00</td>\n",
              "      <td>0.0</td>\n",
              "    </tr>\n",
              "    <tr>\n",
              "      <th>4</th>\n",
              "      <td>4</td>\n",
              "      <td>0</td>\n",
              "      <td>2016-01-01 00:00:00</td>\n",
              "      <td>0.0</td>\n",
              "    </tr>\n",
              "  </tbody>\n",
              "</table>\n",
              "</div>"
            ],
            "text/plain": [
              "   building_id  meter            timestamp  meter_reading\n",
              "0            0      0  2016-01-01 00:00:00            0.0\n",
              "1            1      0  2016-01-01 00:00:00            0.0\n",
              "2            2      0  2016-01-01 00:00:00            0.0\n",
              "3            3      0  2016-01-01 00:00:00            0.0\n",
              "4            4      0  2016-01-01 00:00:00            0.0"
            ]
          },
          "metadata": {
            "tags": []
          },
          "execution_count": 40
        }
      ]
    },
    {
      "cell_type": "code",
      "metadata": {
        "id": "ylxUc-bWQDdg",
        "colab_type": "code",
        "outputId": "4e33bdb2-3443-4fb7-e162-99e7231c084e",
        "colab": {
          "base_uri": "https://localhost:8080/",
          "height": 102
        }
      },
      "source": [
        "train_df.isnull().sum()"
      ],
      "execution_count": 0,
      "outputs": [
        {
          "output_type": "execute_result",
          "data": {
            "text/plain": [
              "building_id      0\n",
              "meter            0\n",
              "timestamp        0\n",
              "meter_reading    0\n",
              "dtype: int64"
            ]
          },
          "metadata": {
            "tags": []
          },
          "execution_count": 41
        }
      ]
    },
    {
      "cell_type": "code",
      "metadata": {
        "id": "Kgrydc160Z7R",
        "colab_type": "code",
        "outputId": "2a56ecc5-c2a3-4f4e-a008-494aa6a5a553",
        "colab": {
          "base_uri": "https://localhost:8080/",
          "height": 297
        }
      },
      "source": [
        "train_df.describe()"
      ],
      "execution_count": 0,
      "outputs": [
        {
          "output_type": "execute_result",
          "data": {
            "text/html": [
              "<div>\n",
              "<style scoped>\n",
              "    .dataframe tbody tr th:only-of-type {\n",
              "        vertical-align: middle;\n",
              "    }\n",
              "\n",
              "    .dataframe tbody tr th {\n",
              "        vertical-align: top;\n",
              "    }\n",
              "\n",
              "    .dataframe thead th {\n",
              "        text-align: right;\n",
              "    }\n",
              "</style>\n",
              "<table border=\"1\" class=\"dataframe\">\n",
              "  <thead>\n",
              "    <tr style=\"text-align: right;\">\n",
              "      <th></th>\n",
              "      <th>building_id</th>\n",
              "      <th>meter</th>\n",
              "      <th>meter_reading</th>\n",
              "    </tr>\n",
              "  </thead>\n",
              "  <tbody>\n",
              "    <tr>\n",
              "      <th>count</th>\n",
              "      <td>2.021610e+07</td>\n",
              "      <td>2.021610e+07</td>\n",
              "      <td>2.021610e+07</td>\n",
              "    </tr>\n",
              "    <tr>\n",
              "      <th>mean</th>\n",
              "      <td>7.992780e+02</td>\n",
              "      <td>6.624412e-01</td>\n",
              "      <td>1.988706e+03</td>\n",
              "    </tr>\n",
              "    <tr>\n",
              "      <th>std</th>\n",
              "      <td>4.269133e+02</td>\n",
              "      <td>9.309921e-01</td>\n",
              "      <td>1.532159e+05</td>\n",
              "    </tr>\n",
              "    <tr>\n",
              "      <th>min</th>\n",
              "      <td>0.000000e+00</td>\n",
              "      <td>0.000000e+00</td>\n",
              "      <td>0.000000e+00</td>\n",
              "    </tr>\n",
              "    <tr>\n",
              "      <th>25%</th>\n",
              "      <td>3.930000e+02</td>\n",
              "      <td>0.000000e+00</td>\n",
              "      <td>1.830000e+01</td>\n",
              "    </tr>\n",
              "    <tr>\n",
              "      <th>50%</th>\n",
              "      <td>8.950000e+02</td>\n",
              "      <td>0.000000e+00</td>\n",
              "      <td>7.877500e+01</td>\n",
              "    </tr>\n",
              "    <tr>\n",
              "      <th>75%</th>\n",
              "      <td>1.179000e+03</td>\n",
              "      <td>1.000000e+00</td>\n",
              "      <td>2.679840e+02</td>\n",
              "    </tr>\n",
              "    <tr>\n",
              "      <th>max</th>\n",
              "      <td>1.448000e+03</td>\n",
              "      <td>3.000000e+00</td>\n",
              "      <td>2.190470e+07</td>\n",
              "    </tr>\n",
              "  </tbody>\n",
              "</table>\n",
              "</div>"
            ],
            "text/plain": [
              "        building_id         meter  meter_reading\n",
              "count  2.021610e+07  2.021610e+07   2.021610e+07\n",
              "mean   7.992780e+02  6.624412e-01   1.988706e+03\n",
              "std    4.269133e+02  9.309921e-01   1.532159e+05\n",
              "min    0.000000e+00  0.000000e+00   0.000000e+00\n",
              "25%    3.930000e+02  0.000000e+00   1.830000e+01\n",
              "50%    8.950000e+02  0.000000e+00   7.877500e+01\n",
              "75%    1.179000e+03  1.000000e+00   2.679840e+02\n",
              "max    1.448000e+03  3.000000e+00   2.190470e+07"
            ]
          },
          "metadata": {
            "tags": []
          },
          "execution_count": 42
        }
      ]
    },
    {
      "cell_type": "code",
      "metadata": {
        "id": "1N2LFJQIzfMw",
        "colab_type": "code",
        "outputId": "662a2191-bf9d-487a-a273-7a08c4878810",
        "colab": {
          "base_uri": "https://localhost:8080/",
          "height": 204
        }
      },
      "source": [
        "building_df.head()"
      ],
      "execution_count": 0,
      "outputs": [
        {
          "output_type": "execute_result",
          "data": {
            "text/html": [
              "<div>\n",
              "<style scoped>\n",
              "    .dataframe tbody tr th:only-of-type {\n",
              "        vertical-align: middle;\n",
              "    }\n",
              "\n",
              "    .dataframe tbody tr th {\n",
              "        vertical-align: top;\n",
              "    }\n",
              "\n",
              "    .dataframe thead th {\n",
              "        text-align: right;\n",
              "    }\n",
              "</style>\n",
              "<table border=\"1\" class=\"dataframe\">\n",
              "  <thead>\n",
              "    <tr style=\"text-align: right;\">\n",
              "      <th></th>\n",
              "      <th>site_id</th>\n",
              "      <th>building_id</th>\n",
              "      <th>primary_use</th>\n",
              "      <th>square_feet</th>\n",
              "      <th>year_built</th>\n",
              "      <th>floor_count</th>\n",
              "    </tr>\n",
              "  </thead>\n",
              "  <tbody>\n",
              "    <tr>\n",
              "      <th>0</th>\n",
              "      <td>0</td>\n",
              "      <td>0</td>\n",
              "      <td>Education</td>\n",
              "      <td>7432</td>\n",
              "      <td>2008.0</td>\n",
              "      <td>1.0</td>\n",
              "    </tr>\n",
              "    <tr>\n",
              "      <th>1</th>\n",
              "      <td>0</td>\n",
              "      <td>1</td>\n",
              "      <td>Education</td>\n",
              "      <td>2720</td>\n",
              "      <td>2004.0</td>\n",
              "      <td>1.0</td>\n",
              "    </tr>\n",
              "    <tr>\n",
              "      <th>2</th>\n",
              "      <td>0</td>\n",
              "      <td>2</td>\n",
              "      <td>Education</td>\n",
              "      <td>5376</td>\n",
              "      <td>1991.0</td>\n",
              "      <td>1.0</td>\n",
              "    </tr>\n",
              "    <tr>\n",
              "      <th>3</th>\n",
              "      <td>0</td>\n",
              "      <td>3</td>\n",
              "      <td>Education</td>\n",
              "      <td>23685</td>\n",
              "      <td>2002.0</td>\n",
              "      <td>1.0</td>\n",
              "    </tr>\n",
              "    <tr>\n",
              "      <th>4</th>\n",
              "      <td>0</td>\n",
              "      <td>4</td>\n",
              "      <td>Education</td>\n",
              "      <td>116607</td>\n",
              "      <td>1975.0</td>\n",
              "      <td>1.0</td>\n",
              "    </tr>\n",
              "  </tbody>\n",
              "</table>\n",
              "</div>"
            ],
            "text/plain": [
              "   site_id  building_id primary_use  square_feet  year_built  floor_count\n",
              "0        0            0   Education         7432      2008.0          1.0\n",
              "1        0            1   Education         2720      2004.0          1.0\n",
              "2        0            2   Education         5376      1991.0          1.0\n",
              "3        0            3   Education        23685      2002.0          1.0\n",
              "4        0            4   Education       116607      1975.0          1.0"
            ]
          },
          "metadata": {
            "tags": []
          },
          "execution_count": 33
        }
      ]
    },
    {
      "cell_type": "code",
      "metadata": {
        "id": "xUanwKksQu_-",
        "colab_type": "code",
        "outputId": "5172f087-2b27-4486-ef24-0037640a58c3",
        "colab": {
          "base_uri": "https://localhost:8080/",
          "height": 136
        }
      },
      "source": [
        "building_df.isnull().sum()"
      ],
      "execution_count": 0,
      "outputs": [
        {
          "output_type": "execute_result",
          "data": {
            "text/plain": [
              "site_id           0\n",
              "building_id       0\n",
              "primary_use       0\n",
              "square_feet       0\n",
              "year_built      774\n",
              "floor_count    1094\n",
              "dtype: int64"
            ]
          },
          "metadata": {
            "tags": []
          },
          "execution_count": 44
        }
      ]
    },
    {
      "cell_type": "code",
      "metadata": {
        "id": "HCZpSDqC0exI",
        "colab_type": "code",
        "outputId": "174a350b-3a64-4955-bc11-020106bf3043",
        "colab": {
          "base_uri": "https://localhost:8080/",
          "height": 297
        }
      },
      "source": [
        "building_df.describe()"
      ],
      "execution_count": 0,
      "outputs": [
        {
          "output_type": "execute_result",
          "data": {
            "text/html": [
              "<div>\n",
              "<style scoped>\n",
              "    .dataframe tbody tr th:only-of-type {\n",
              "        vertical-align: middle;\n",
              "    }\n",
              "\n",
              "    .dataframe tbody tr th {\n",
              "        vertical-align: top;\n",
              "    }\n",
              "\n",
              "    .dataframe thead th {\n",
              "        text-align: right;\n",
              "    }\n",
              "</style>\n",
              "<table border=\"1\" class=\"dataframe\">\n",
              "  <thead>\n",
              "    <tr style=\"text-align: right;\">\n",
              "      <th></th>\n",
              "      <th>site_id</th>\n",
              "      <th>building_id</th>\n",
              "      <th>square_feet</th>\n",
              "      <th>year_built</th>\n",
              "      <th>floor_count</th>\n",
              "    </tr>\n",
              "  </thead>\n",
              "  <tbody>\n",
              "    <tr>\n",
              "      <th>count</th>\n",
              "      <td>1449.000000</td>\n",
              "      <td>1449.000000</td>\n",
              "      <td>1449.000000</td>\n",
              "      <td>675.0000</td>\n",
              "      <td>355.000000</td>\n",
              "    </tr>\n",
              "    <tr>\n",
              "      <th>mean</th>\n",
              "      <td>6.952381</td>\n",
              "      <td>724.000000</td>\n",
              "      <td>92111.776398</td>\n",
              "      <td>inf</td>\n",
              "      <td>3.740234</td>\n",
              "    </tr>\n",
              "    <tr>\n",
              "      <th>std</th>\n",
              "      <td>5.003432</td>\n",
              "      <td>418.434583</td>\n",
              "      <td>110769.950997</td>\n",
              "      <td>31.0625</td>\n",
              "      <td>3.333984</td>\n",
              "    </tr>\n",
              "    <tr>\n",
              "      <th>min</th>\n",
              "      <td>0.000000</td>\n",
              "      <td>0.000000</td>\n",
              "      <td>283.000000</td>\n",
              "      <td>1900.0000</td>\n",
              "      <td>1.000000</td>\n",
              "    </tr>\n",
              "    <tr>\n",
              "      <th>25%</th>\n",
              "      <td>3.000000</td>\n",
              "      <td>362.000000</td>\n",
              "      <td>23012.000000</td>\n",
              "      <td>1949.0000</td>\n",
              "      <td>1.000000</td>\n",
              "    </tr>\n",
              "    <tr>\n",
              "      <th>50%</th>\n",
              "      <td>5.000000</td>\n",
              "      <td>724.000000</td>\n",
              "      <td>57673.000000</td>\n",
              "      <td>1970.0000</td>\n",
              "      <td>3.000000</td>\n",
              "    </tr>\n",
              "    <tr>\n",
              "      <th>75%</th>\n",
              "      <td>13.000000</td>\n",
              "      <td>1086.000000</td>\n",
              "      <td>115676.000000</td>\n",
              "      <td>1995.0000</td>\n",
              "      <td>5.000000</td>\n",
              "    </tr>\n",
              "    <tr>\n",
              "      <th>max</th>\n",
              "      <td>15.000000</td>\n",
              "      <td>1448.000000</td>\n",
              "      <td>875000.000000</td>\n",
              "      <td>2017.0000</td>\n",
              "      <td>26.000000</td>\n",
              "    </tr>\n",
              "  </tbody>\n",
              "</table>\n",
              "</div>"
            ],
            "text/plain": [
              "           site_id  building_id    square_feet  year_built  floor_count\n",
              "count  1449.000000  1449.000000    1449.000000    675.0000   355.000000\n",
              "mean      6.952381   724.000000   92111.776398         inf     3.740234\n",
              "std       5.003432   418.434583  110769.950997     31.0625     3.333984\n",
              "min       0.000000     0.000000     283.000000   1900.0000     1.000000\n",
              "25%       3.000000   362.000000   23012.000000   1949.0000     1.000000\n",
              "50%       5.000000   724.000000   57673.000000   1970.0000     3.000000\n",
              "75%      13.000000  1086.000000  115676.000000   1995.0000     5.000000\n",
              "max      15.000000  1448.000000  875000.000000   2017.0000    26.000000"
            ]
          },
          "metadata": {
            "tags": []
          },
          "execution_count": 18
        }
      ]
    },
    {
      "cell_type": "code",
      "metadata": {
        "id": "8WQPj-w8zfQr",
        "colab_type": "code",
        "outputId": "0e6621bb-80e3-47ed-8eb8-4b550a5abb04",
        "colab": {
          "base_uri": "https://localhost:8080/",
          "height": 204
        }
      },
      "source": [
        "weather_train_df.head()"
      ],
      "execution_count": 0,
      "outputs": [
        {
          "output_type": "execute_result",
          "data": {
            "text/html": [
              "<div>\n",
              "<style scoped>\n",
              "    .dataframe tbody tr th:only-of-type {\n",
              "        vertical-align: middle;\n",
              "    }\n",
              "\n",
              "    .dataframe tbody tr th {\n",
              "        vertical-align: top;\n",
              "    }\n",
              "\n",
              "    .dataframe thead th {\n",
              "        text-align: right;\n",
              "    }\n",
              "</style>\n",
              "<table border=\"1\" class=\"dataframe\">\n",
              "  <thead>\n",
              "    <tr style=\"text-align: right;\">\n",
              "      <th></th>\n",
              "      <th>site_id</th>\n",
              "      <th>timestamp</th>\n",
              "      <th>air_temperature</th>\n",
              "      <th>cloud_coverage</th>\n",
              "      <th>dew_temperature</th>\n",
              "      <th>precip_depth_1_hr</th>\n",
              "      <th>sea_level_pressure</th>\n",
              "      <th>wind_direction</th>\n",
              "      <th>wind_speed</th>\n",
              "    </tr>\n",
              "  </thead>\n",
              "  <tbody>\n",
              "    <tr>\n",
              "      <th>0</th>\n",
              "      <td>0</td>\n",
              "      <td>2016-01-01 00:00:00</td>\n",
              "      <td>25.000000</td>\n",
              "      <td>6.0</td>\n",
              "      <td>20.00000</td>\n",
              "      <td>NaN</td>\n",
              "      <td>1019.5</td>\n",
              "      <td>0.0</td>\n",
              "      <td>0.000000</td>\n",
              "    </tr>\n",
              "    <tr>\n",
              "      <th>1</th>\n",
              "      <td>0</td>\n",
              "      <td>2016-01-01 01:00:00</td>\n",
              "      <td>24.406250</td>\n",
              "      <td>NaN</td>\n",
              "      <td>21.09375</td>\n",
              "      <td>-1.0</td>\n",
              "      <td>1020.0</td>\n",
              "      <td>70.0</td>\n",
              "      <td>1.500000</td>\n",
              "    </tr>\n",
              "    <tr>\n",
              "      <th>2</th>\n",
              "      <td>0</td>\n",
              "      <td>2016-01-01 02:00:00</td>\n",
              "      <td>22.796875</td>\n",
              "      <td>2.0</td>\n",
              "      <td>21.09375</td>\n",
              "      <td>0.0</td>\n",
              "      <td>1020.0</td>\n",
              "      <td>0.0</td>\n",
              "      <td>0.000000</td>\n",
              "    </tr>\n",
              "    <tr>\n",
              "      <th>3</th>\n",
              "      <td>0</td>\n",
              "      <td>2016-01-01 03:00:00</td>\n",
              "      <td>21.093750</td>\n",
              "      <td>2.0</td>\n",
              "      <td>20.59375</td>\n",
              "      <td>0.0</td>\n",
              "      <td>1020.0</td>\n",
              "      <td>0.0</td>\n",
              "      <td>0.000000</td>\n",
              "    </tr>\n",
              "    <tr>\n",
              "      <th>4</th>\n",
              "      <td>0</td>\n",
              "      <td>2016-01-01 04:00:00</td>\n",
              "      <td>20.000000</td>\n",
              "      <td>2.0</td>\n",
              "      <td>20.00000</td>\n",
              "      <td>-1.0</td>\n",
              "      <td>1020.0</td>\n",
              "      <td>250.0</td>\n",
              "      <td>2.599609</td>\n",
              "    </tr>\n",
              "  </tbody>\n",
              "</table>\n",
              "</div>"
            ],
            "text/plain": [
              "   site_id            timestamp  ...  wind_direction  wind_speed\n",
              "0        0  2016-01-01 00:00:00  ...             0.0    0.000000\n",
              "1        0  2016-01-01 01:00:00  ...            70.0    1.500000\n",
              "2        0  2016-01-01 02:00:00  ...             0.0    0.000000\n",
              "3        0  2016-01-01 03:00:00  ...             0.0    0.000000\n",
              "4        0  2016-01-01 04:00:00  ...           250.0    2.599609\n",
              "\n",
              "[5 rows x 9 columns]"
            ]
          },
          "metadata": {
            "tags": []
          },
          "execution_count": 45
        }
      ]
    },
    {
      "cell_type": "code",
      "metadata": {
        "id": "swJuJ1P1Q0eH",
        "colab_type": "code",
        "outputId": "e1d62e78-435b-492b-aaf3-c07b143a64f3",
        "colab": {
          "base_uri": "https://localhost:8080/",
          "height": 187
        }
      },
      "source": [
        "weather_test_df.isnull().sum()"
      ],
      "execution_count": 0,
      "outputs": [
        {
          "output_type": "execute_result",
          "data": {
            "text/plain": [
              "site_id                    0\n",
              "timestamp                  0\n",
              "air_temperature          104\n",
              "cloud_coverage        140448\n",
              "dew_temperature          327\n",
              "precip_depth_1_hr      95588\n",
              "sea_level_pressure     21265\n",
              "wind_direction         12370\n",
              "wind_speed               460\n",
              "dtype: int64"
            ]
          },
          "metadata": {
            "tags": []
          },
          "execution_count": 46
        }
      ]
    },
    {
      "cell_type": "code",
      "metadata": {
        "id": "kYtr89Sm0jCr",
        "colab_type": "code",
        "outputId": "663fc1b9-faf3-4fd3-d797-a61581b32f2c",
        "colab": {
          "base_uri": "https://localhost:8080/",
          "height": 297
        }
      },
      "source": [
        "weather_train_df.describe()"
      ],
      "execution_count": 0,
      "outputs": [
        {
          "output_type": "execute_result",
          "data": {
            "text/html": [
              "<div>\n",
              "<style scoped>\n",
              "    .dataframe tbody tr th:only-of-type {\n",
              "        vertical-align: middle;\n",
              "    }\n",
              "\n",
              "    .dataframe tbody tr th {\n",
              "        vertical-align: top;\n",
              "    }\n",
              "\n",
              "    .dataframe thead th {\n",
              "        text-align: right;\n",
              "    }\n",
              "</style>\n",
              "<table border=\"1\" class=\"dataframe\">\n",
              "  <thead>\n",
              "    <tr style=\"text-align: right;\">\n",
              "      <th></th>\n",
              "      <th>site_id</th>\n",
              "      <th>air_temperature</th>\n",
              "      <th>cloud_coverage</th>\n",
              "      <th>dew_temperature</th>\n",
              "      <th>precip_depth_1_hr</th>\n",
              "      <th>sea_level_pressure</th>\n",
              "      <th>wind_direction</th>\n",
              "      <th>wind_speed</th>\n",
              "    </tr>\n",
              "  </thead>\n",
              "  <tbody>\n",
              "    <tr>\n",
              "      <th>count</th>\n",
              "      <td>139773.000000</td>\n",
              "      <td>139718.000000</td>\n",
              "      <td>70600.0</td>\n",
              "      <td>139660.000000</td>\n",
              "      <td>89484.0</td>\n",
              "      <td>129155.0</td>\n",
              "      <td>133505.0</td>\n",
              "      <td>139469.000000</td>\n",
              "    </tr>\n",
              "    <tr>\n",
              "      <th>mean</th>\n",
              "      <td>7.478977</td>\n",
              "      <td>NaN</td>\n",
              "      <td>NaN</td>\n",
              "      <td>NaN</td>\n",
              "      <td>NaN</td>\n",
              "      <td>NaN</td>\n",
              "      <td>NaN</td>\n",
              "      <td>NaN</td>\n",
              "    </tr>\n",
              "    <tr>\n",
              "      <th>std</th>\n",
              "      <td>4.604744</td>\n",
              "      <td>0.000000</td>\n",
              "      <td>0.0</td>\n",
              "      <td>0.000000</td>\n",
              "      <td>NaN</td>\n",
              "      <td>NaN</td>\n",
              "      <td>NaN</td>\n",
              "      <td>0.000000</td>\n",
              "    </tr>\n",
              "    <tr>\n",
              "      <th>min</th>\n",
              "      <td>0.000000</td>\n",
              "      <td>-28.906250</td>\n",
              "      <td>0.0</td>\n",
              "      <td>-35.000000</td>\n",
              "      <td>-1.0</td>\n",
              "      <td>968.0</td>\n",
              "      <td>0.0</td>\n",
              "      <td>0.000000</td>\n",
              "    </tr>\n",
              "    <tr>\n",
              "      <th>25%</th>\n",
              "      <td>3.000000</td>\n",
              "      <td>7.199219</td>\n",
              "      <td>0.0</td>\n",
              "      <td>0.600098</td>\n",
              "      <td>0.0</td>\n",
              "      <td>1012.0</td>\n",
              "      <td>80.0</td>\n",
              "      <td>2.099609</td>\n",
              "    </tr>\n",
              "    <tr>\n",
              "      <th>50%</th>\n",
              "      <td>7.000000</td>\n",
              "      <td>15.000000</td>\n",
              "      <td>2.0</td>\n",
              "      <td>8.296875</td>\n",
              "      <td>0.0</td>\n",
              "      <td>1016.5</td>\n",
              "      <td>190.0</td>\n",
              "      <td>3.099609</td>\n",
              "    </tr>\n",
              "    <tr>\n",
              "      <th>75%</th>\n",
              "      <td>11.000000</td>\n",
              "      <td>22.203125</td>\n",
              "      <td>4.0</td>\n",
              "      <td>14.398438</td>\n",
              "      <td>0.0</td>\n",
              "      <td>1021.0</td>\n",
              "      <td>280.0</td>\n",
              "      <td>5.000000</td>\n",
              "    </tr>\n",
              "    <tr>\n",
              "      <th>max</th>\n",
              "      <td>15.000000</td>\n",
              "      <td>47.187500</td>\n",
              "      <td>9.0</td>\n",
              "      <td>26.093750</td>\n",
              "      <td>343.0</td>\n",
              "      <td>1046.0</td>\n",
              "      <td>360.0</td>\n",
              "      <td>19.000000</td>\n",
              "    </tr>\n",
              "  </tbody>\n",
              "</table>\n",
              "</div>"
            ],
            "text/plain": [
              "             site_id  air_temperature  ...  wind_direction     wind_speed\n",
              "count  139773.000000    139718.000000  ...        133505.0  139469.000000\n",
              "mean        7.478977              NaN  ...             NaN            NaN\n",
              "std         4.604744         0.000000  ...             NaN       0.000000\n",
              "min         0.000000       -28.906250  ...             0.0       0.000000\n",
              "25%         3.000000         7.199219  ...            80.0       2.099609\n",
              "50%         7.000000        15.000000  ...           190.0       3.099609\n",
              "75%        11.000000        22.203125  ...           280.0       5.000000\n",
              "max        15.000000        47.187500  ...           360.0      19.000000\n",
              "\n",
              "[8 rows x 8 columns]"
            ]
          },
          "metadata": {
            "tags": []
          },
          "execution_count": 47
        }
      ]
    },
    {
      "cell_type": "code",
      "metadata": {
        "id": "-L7-BKdSzfKV",
        "colab_type": "code",
        "outputId": "df3f0e5c-b7c3-418b-9013-1623f63a797e",
        "colab": {
          "base_uri": "https://localhost:8080/",
          "height": 204
        }
      },
      "source": [
        "weather_test_df.head()"
      ],
      "execution_count": 0,
      "outputs": [
        {
          "output_type": "execute_result",
          "data": {
            "text/html": [
              "<div>\n",
              "<style scoped>\n",
              "    .dataframe tbody tr th:only-of-type {\n",
              "        vertical-align: middle;\n",
              "    }\n",
              "\n",
              "    .dataframe tbody tr th {\n",
              "        vertical-align: top;\n",
              "    }\n",
              "\n",
              "    .dataframe thead th {\n",
              "        text-align: right;\n",
              "    }\n",
              "</style>\n",
              "<table border=\"1\" class=\"dataframe\">\n",
              "  <thead>\n",
              "    <tr style=\"text-align: right;\">\n",
              "      <th></th>\n",
              "      <th>site_id</th>\n",
              "      <th>timestamp</th>\n",
              "      <th>air_temperature</th>\n",
              "      <th>cloud_coverage</th>\n",
              "      <th>dew_temperature</th>\n",
              "      <th>precip_depth_1_hr</th>\n",
              "      <th>sea_level_pressure</th>\n",
              "      <th>wind_direction</th>\n",
              "      <th>wind_speed</th>\n",
              "    </tr>\n",
              "  </thead>\n",
              "  <tbody>\n",
              "    <tr>\n",
              "      <th>0</th>\n",
              "      <td>0</td>\n",
              "      <td>2017-01-01 00:00:00</td>\n",
              "      <td>17.796875</td>\n",
              "      <td>4.0</td>\n",
              "      <td>11.703125</td>\n",
              "      <td>NaN</td>\n",
              "      <td>1021.5</td>\n",
              "      <td>100.0</td>\n",
              "      <td>3.599609</td>\n",
              "    </tr>\n",
              "    <tr>\n",
              "      <th>1</th>\n",
              "      <td>0</td>\n",
              "      <td>2017-01-01 01:00:00</td>\n",
              "      <td>17.796875</td>\n",
              "      <td>2.0</td>\n",
              "      <td>12.796875</td>\n",
              "      <td>0.0</td>\n",
              "      <td>1022.0</td>\n",
              "      <td>130.0</td>\n",
              "      <td>3.099609</td>\n",
              "    </tr>\n",
              "    <tr>\n",
              "      <th>2</th>\n",
              "      <td>0</td>\n",
              "      <td>2017-01-01 02:00:00</td>\n",
              "      <td>16.093750</td>\n",
              "      <td>0.0</td>\n",
              "      <td>12.796875</td>\n",
              "      <td>0.0</td>\n",
              "      <td>1022.0</td>\n",
              "      <td>140.0</td>\n",
              "      <td>3.099609</td>\n",
              "    </tr>\n",
              "    <tr>\n",
              "      <th>3</th>\n",
              "      <td>0</td>\n",
              "      <td>2017-01-01 03:00:00</td>\n",
              "      <td>17.203125</td>\n",
              "      <td>0.0</td>\n",
              "      <td>13.296875</td>\n",
              "      <td>0.0</td>\n",
              "      <td>1022.0</td>\n",
              "      <td>140.0</td>\n",
              "      <td>3.099609</td>\n",
              "    </tr>\n",
              "    <tr>\n",
              "      <th>4</th>\n",
              "      <td>0</td>\n",
              "      <td>2017-01-01 04:00:00</td>\n",
              "      <td>16.703125</td>\n",
              "      <td>2.0</td>\n",
              "      <td>13.296875</td>\n",
              "      <td>0.0</td>\n",
              "      <td>1022.5</td>\n",
              "      <td>130.0</td>\n",
              "      <td>2.599609</td>\n",
              "    </tr>\n",
              "  </tbody>\n",
              "</table>\n",
              "</div>"
            ],
            "text/plain": [
              "   site_id            timestamp  ...  wind_direction  wind_speed\n",
              "0        0  2017-01-01 00:00:00  ...           100.0    3.599609\n",
              "1        0  2017-01-01 01:00:00  ...           130.0    3.099609\n",
              "2        0  2017-01-01 02:00:00  ...           140.0    3.099609\n",
              "3        0  2017-01-01 03:00:00  ...           140.0    3.099609\n",
              "4        0  2017-01-01 04:00:00  ...           130.0    2.599609\n",
              "\n",
              "[5 rows x 9 columns]"
            ]
          },
          "metadata": {
            "tags": []
          },
          "execution_count": 48
        }
      ]
    },
    {
      "cell_type": "code",
      "metadata": {
        "id": "_kcYRHgi0Ni6",
        "colab_type": "code",
        "outputId": "40ceed96-b8cb-49af-db95-976afde32db4",
        "colab": {
          "base_uri": "https://localhost:8080/",
          "height": 102
        }
      },
      "source": [
        "print('Size of train_df data', train_df.shape)\n",
        "print('Size of test_df data', train_df.shape)\n",
        "print('Size of weather_train_df data', weather_train_df.shape)\n",
        "print('Size of weather_test_df data', weather_test_df.shape)\n",
        "print('Size of building_df data', building_df.shape)"
      ],
      "execution_count": 41,
      "outputs": [
        {
          "output_type": "stream",
          "text": [
            "Size of train_df data (20216100, 4)\n",
            "Size of test_df data (20216100, 4)\n",
            "Size of weather_train_df data (139773, 9)\n",
            "Size of weather_test_df data (277243, 9)\n",
            "Size of building_df data (1449, 6)\n"
          ],
          "name": "stdout"
        }
      ]
    },
    {
      "cell_type": "code",
      "metadata": {
        "id": "aac5xfGh0NqA",
        "colab_type": "code",
        "outputId": "4cadc5d3-5bde-40e1-e351-d0a8dfb63a44",
        "colab": {
          "base_uri": "https://localhost:8080/",
          "height": 361
        }
      },
      "source": [
        "plt.figure(figsize = (10,5))\n",
        "train_df['meter_reading'].plot()"
      ],
      "execution_count": 0,
      "outputs": [
        {
          "output_type": "execute_result",
          "data": {
            "text/plain": [
              "<matplotlib.axes._subplots.AxesSubplot at 0x7efc169dfcf8>"
            ]
          },
          "metadata": {
            "tags": []
          },
          "execution_count": 24
        },
        {
          "output_type": "display_data",
          "data": {
            "image/png": "[encoded data removed]",
            "text/plain": [
              "<Figure size 720x360 with 1 Axes>"
            ]
          },
          "metadata": {
            "tags": []
          }
        }
      ]
    },
    {
      "cell_type": "markdown",
      "metadata": {
        "id": "mQv38dzzCbDA",
        "colab_type": "text"
      },
      "source": [
        "# **Preparation for weather_data**"
      ]
    },
    {
      "cell_type": "code",
      "metadata": {
        "id": "gdl3emprAo8h",
        "colab_type": "code",
        "colab": {}
      },
      "source": [
        "#dealing with missing values in weather_df\n",
        "from sklearn.impute import SimpleImputer #function to fill missing values with another value\n",
        "cols_with_missing_weather_train = [col for col in weather_train_df.columns if weather_train_df[col].isnull().any()]\n",
        "imp_most = SimpleImputer(strategy='most_frequent') #fill missing data with the most frequent value\n",
        "weather_train_df[cols_with_missing_weather_train] = imp_most.fit_transform(weather_train_df[cols_with_missing_weather_train])"
      ],
      "execution_count": 0,
      "outputs": []
    },
    {
      "cell_type": "code",
      "metadata": {
        "id": "ebT6SBWbBUzI",
        "colab_type": "code",
        "outputId": "3f124b9d-4765-46c3-8fcc-62c8d55c9967",
        "colab": {
          "base_uri": "https://localhost:8080/",
          "height": 297
        }
      },
      "source": [
        "weather_train_df.describe()"
      ],
      "execution_count": 0,
      "outputs": [
        {
          "output_type": "execute_result",
          "data": {
            "text/html": [
              "<div>\n",
              "<style scoped>\n",
              "    .dataframe tbody tr th:only-of-type {\n",
              "        vertical-align: middle;\n",
              "    }\n",
              "\n",
              "    .dataframe tbody tr th {\n",
              "        vertical-align: top;\n",
              "    }\n",
              "\n",
              "    .dataframe thead th {\n",
              "        text-align: right;\n",
              "    }\n",
              "</style>\n",
              "<table border=\"1\" class=\"dataframe\">\n",
              "  <thead>\n",
              "    <tr style=\"text-align: right;\">\n",
              "      <th></th>\n",
              "      <th>site_id</th>\n",
              "      <th>air_temperature</th>\n",
              "      <th>cloud_coverage</th>\n",
              "      <th>dew_temperature</th>\n",
              "      <th>precip_depth_1_hr</th>\n",
              "      <th>sea_level_pressure</th>\n",
              "      <th>wind_direction</th>\n",
              "      <th>wind_speed</th>\n",
              "    </tr>\n",
              "  </thead>\n",
              "  <tbody>\n",
              "    <tr>\n",
              "      <th>count</th>\n",
              "      <td>139773.000000</td>\n",
              "      <td>139773.000000</td>\n",
              "      <td>139773.000000</td>\n",
              "      <td>139773.000000</td>\n",
              "      <td>139773.000000</td>\n",
              "      <td>139773.000000</td>\n",
              "      <td>139773.000000</td>\n",
              "      <td>139773.000000</td>\n",
              "    </tr>\n",
              "    <tr>\n",
              "      <th>mean</th>\n",
              "      <td>7.478977</td>\n",
              "      <td>14.418337</td>\n",
              "      <td>1.085625</td>\n",
              "      <td>7.352269</td>\n",
              "      <td>0.629356</td>\n",
              "      <td>1016.145196</td>\n",
              "      <td>172.431070</td>\n",
              "      <td>3.557339</td>\n",
              "    </tr>\n",
              "    <tr>\n",
              "      <th>std</th>\n",
              "      <td>4.604744</td>\n",
              "      <td>10.624583</td>\n",
              "      <td>2.137058</td>\n",
              "      <td>9.786547</td>\n",
              "      <td>6.788452</td>\n",
              "      <td>7.334961</td>\n",
              "      <td>115.220234</td>\n",
              "      <td>2.334236</td>\n",
              "    </tr>\n",
              "    <tr>\n",
              "      <th>min</th>\n",
              "      <td>0.000000</td>\n",
              "      <td>-28.906250</td>\n",
              "      <td>0.000000</td>\n",
              "      <td>-35.000000</td>\n",
              "      <td>-1.000000</td>\n",
              "      <td>968.000000</td>\n",
              "      <td>0.000000</td>\n",
              "      <td>0.000000</td>\n",
              "    </tr>\n",
              "    <tr>\n",
              "      <th>25%</th>\n",
              "      <td>3.000000</td>\n",
              "      <td>7.199219</td>\n",
              "      <td>0.000000</td>\n",
              "      <td>0.600098</td>\n",
              "      <td>0.000000</td>\n",
              "      <td>1012.000000</td>\n",
              "      <td>70.000000</td>\n",
              "      <td>2.099609</td>\n",
              "    </tr>\n",
              "    <tr>\n",
              "      <th>50%</th>\n",
              "      <td>7.000000</td>\n",
              "      <td>15.000000</td>\n",
              "      <td>0.000000</td>\n",
              "      <td>8.296875</td>\n",
              "      <td>0.000000</td>\n",
              "      <td>1016.000000</td>\n",
              "      <td>180.000000</td>\n",
              "      <td>3.099609</td>\n",
              "    </tr>\n",
              "    <tr>\n",
              "      <th>75%</th>\n",
              "      <td>11.000000</td>\n",
              "      <td>22.203125</td>\n",
              "      <td>2.000000</td>\n",
              "      <td>14.398438</td>\n",
              "      <td>0.000000</td>\n",
              "      <td>1020.500000</td>\n",
              "      <td>270.000000</td>\n",
              "      <td>5.000000</td>\n",
              "    </tr>\n",
              "    <tr>\n",
              "      <th>max</th>\n",
              "      <td>15.000000</td>\n",
              "      <td>47.187500</td>\n",
              "      <td>9.000000</td>\n",
              "      <td>26.093750</td>\n",
              "      <td>343.000000</td>\n",
              "      <td>1046.000000</td>\n",
              "      <td>360.000000</td>\n",
              "      <td>19.000000</td>\n",
              "    </tr>\n",
              "  </tbody>\n",
              "</table>\n",
              "</div>"
            ],
            "text/plain": [
              "             site_id  air_temperature  ...  wind_direction     wind_speed\n",
              "count  139773.000000    139773.000000  ...   139773.000000  139773.000000\n",
              "mean        7.478977        14.418337  ...      172.431070       3.557339\n",
              "std         4.604744        10.624583  ...      115.220234       2.334236\n",
              "min         0.000000       -28.906250  ...        0.000000       0.000000\n",
              "25%         3.000000         7.199219  ...       70.000000       2.099609\n",
              "50%         7.000000        15.000000  ...      180.000000       3.099609\n",
              "75%        11.000000        22.203125  ...      270.000000       5.000000\n",
              "max        15.000000        47.187500  ...      360.000000      19.000000\n",
              "\n",
              "[8 rows x 8 columns]"
            ]
          },
          "metadata": {
            "tags": []
          },
          "execution_count": 26
        }
      ]
    },
    {
      "cell_type": "code",
      "metadata": {
        "id": "tvVx3a0DBU3v",
        "colab_type": "code",
        "colab": {}
      },
      "source": [
        "#scaling the weather_df features\n",
        "weather_features_scaling = ['air_temperature', 'cloud_coverage', 'dew_temperature', 'sea_level_pressure', 'wind_speed','precip_depth_1_hr']\n",
        "for i in weather_features_scaling:\n",
        "  mean=weather_train_df[i].mean(axis=0)\n",
        "  std=weather_train_df[i].std(axis=0)\n",
        "  weather_train_df[i] = weather_train_df[i].astype('float32')\n",
        "  weather_train_df[i]=(weather_train_df[i]-mean)/std"
      ],
      "execution_count": 0,
      "outputs": []
    },
    {
      "cell_type": "code",
      "metadata": {
        "id": "jaxdr3D5BU_W",
        "colab_type": "code",
        "outputId": "d3f1dbbb-562a-4c6e-e544-e7854bc1f5b8",
        "colab": {
          "base_uri": "https://localhost:8080/",
          "height": 297
        }
      },
      "source": [
        "weather_train_df.describe()"
      ],
      "execution_count": 0,
      "outputs": [
        {
          "output_type": "execute_result",
          "data": {
            "text/html": [
              "<div>\n",
              "<style scoped>\n",
              "    .dataframe tbody tr th:only-of-type {\n",
              "        vertical-align: middle;\n",
              "    }\n",
              "\n",
              "    .dataframe tbody tr th {\n",
              "        vertical-align: top;\n",
              "    }\n",
              "\n",
              "    .dataframe thead th {\n",
              "        text-align: right;\n",
              "    }\n",
              "</style>\n",
              "<table border=\"1\" class=\"dataframe\">\n",
              "  <thead>\n",
              "    <tr style=\"text-align: right;\">\n",
              "      <th></th>\n",
              "      <th>site_id</th>\n",
              "      <th>air_temperature</th>\n",
              "      <th>cloud_coverage</th>\n",
              "      <th>dew_temperature</th>\n",
              "      <th>precip_depth_1_hr</th>\n",
              "      <th>sea_level_pressure</th>\n",
              "      <th>wind_direction</th>\n",
              "      <th>wind_speed</th>\n",
              "    </tr>\n",
              "  </thead>\n",
              "  <tbody>\n",
              "    <tr>\n",
              "      <th>count</th>\n",
              "      <td>139773.000000</td>\n",
              "      <td>139773.000000</td>\n",
              "      <td>139773.000000</td>\n",
              "      <td>139773.000000</td>\n",
              "      <td>139773.000000</td>\n",
              "      <td>139773.000000</td>\n",
              "      <td>139773.000000</td>\n",
              "      <td>1.397730e+05</td>\n",
              "    </tr>\n",
              "    <tr>\n",
              "      <th>mean</th>\n",
              "      <td>7.478977</td>\n",
              "      <td>-0.000030</td>\n",
              "      <td>0.000045</td>\n",
              "      <td>0.000004</td>\n",
              "      <td>0.000009</td>\n",
              "      <td>-0.000001</td>\n",
              "      <td>172.431070</td>\n",
              "      <td>-2.064681e-07</td>\n",
              "    </tr>\n",
              "    <tr>\n",
              "      <th>std</th>\n",
              "      <td>4.604744</td>\n",
              "      <td>0.999987</td>\n",
              "      <td>1.000303</td>\n",
              "      <td>0.999985</td>\n",
              "      <td>0.999758</td>\n",
              "      <td>0.999967</td>\n",
              "      <td>115.220234</td>\n",
              "      <td>1.000128e+00</td>\n",
              "    </tr>\n",
              "    <tr>\n",
              "      <th>min</th>\n",
              "      <td>0.000000</td>\n",
              "      <td>-4.077768</td>\n",
              "      <td>-0.508000</td>\n",
              "      <td>-4.327601</td>\n",
              "      <td>-0.240019</td>\n",
              "      <td>-6.563797</td>\n",
              "      <td>0.000000</td>\n",
              "      <td>-1.523985e+00</td>\n",
              "    </tr>\n",
              "    <tr>\n",
              "      <th>25%</th>\n",
              "      <td>3.000000</td>\n",
              "      <td>-0.679473</td>\n",
              "      <td>-0.508000</td>\n",
              "      <td>-0.689944</td>\n",
              "      <td>-0.092710</td>\n",
              "      <td>-0.565129</td>\n",
              "      <td>70.000000</td>\n",
              "      <td>-6.244999e-01</td>\n",
              "    </tr>\n",
              "    <tr>\n",
              "      <th>50%</th>\n",
              "      <td>7.000000</td>\n",
              "      <td>0.054747</td>\n",
              "      <td>-0.508000</td>\n",
              "      <td>0.096521</td>\n",
              "      <td>-0.092710</td>\n",
              "      <td>-0.019796</td>\n",
              "      <td>180.000000</td>\n",
              "      <td>-1.960942e-01</td>\n",
              "    </tr>\n",
              "    <tr>\n",
              "      <th>75%</th>\n",
              "      <td>11.000000</td>\n",
              "      <td>0.732715</td>\n",
              "      <td>0.427866</td>\n",
              "      <td>0.719985</td>\n",
              "      <td>-0.092710</td>\n",
              "      <td>0.593704</td>\n",
              "      <td>270.000000</td>\n",
              "      <td>6.180440e-01</td>\n",
              "    </tr>\n",
              "    <tr>\n",
              "      <th>max</th>\n",
              "      <td>15.000000</td>\n",
              "      <td>3.084277</td>\n",
              "      <td>3.703397</td>\n",
              "      <td>1.915025</td>\n",
              "      <td>50.434273</td>\n",
              "      <td>4.070205</td>\n",
              "      <td>360.000000</td>\n",
              "      <td>6.615724e+00</td>\n",
              "    </tr>\n",
              "  </tbody>\n",
              "</table>\n",
              "</div>"
            ],
            "text/plain": [
              "             site_id  air_temperature  ...  wind_direction    wind_speed\n",
              "count  139773.000000    139773.000000  ...   139773.000000  1.397730e+05\n",
              "mean        7.478977        -0.000030  ...      172.431070 -2.064681e-07\n",
              "std         4.604744         0.999987  ...      115.220234  1.000128e+00\n",
              "min         0.000000        -4.077768  ...        0.000000 -1.523985e+00\n",
              "25%         3.000000        -0.679473  ...       70.000000 -6.244999e-01\n",
              "50%         7.000000         0.054747  ...      180.000000 -1.960942e-01\n",
              "75%        11.000000         0.732715  ...      270.000000  6.180440e-01\n",
              "max        15.000000         3.084277  ...      360.000000  6.615724e+00\n",
              "\n",
              "[8 rows x 8 columns]"
            ]
          },
          "metadata": {
            "tags": []
          },
          "execution_count": 28
        }
      ]
    },
    {
      "cell_type": "code",
      "metadata": {
        "id": "tdC_CXy2BU73",
        "colab_type": "code",
        "colab": {}
      },
      "source": [
        ""
      ],
      "execution_count": 0,
      "outputs": []
    },
    {
      "cell_type": "markdown",
      "metadata": {
        "id": "p2rmdUXgFP1g",
        "colab_type": "text"
      },
      "source": [
        "# **Preparation for building data**"
      ]
    },
    {
      "cell_type": "code",
      "metadata": {
        "id": "7QLe88p4BU16",
        "colab_type": "code",
        "colab": {}
      },
      "source": [
        "#dealing with missing values in _df\n",
        "from sklearn.impute import SimpleImputer\n",
        "imp_most = SimpleImputer(strategy='most_frequent') #fill missing data with the most frequent value\n",
        "cols_with_missing_building_values = [col for col in building_df.columns if building_df[col].isnull().any()]"
      ],
      "execution_count": 0,
      "outputs": []
    },
    {
      "cell_type": "code",
      "metadata": {
        "id": "jzXvIoSoF8rZ",
        "colab_type": "code",
        "outputId": "ca8aea5d-ad12-4c5e-dbdc-370a04ccac5b",
        "colab": {
          "base_uri": "https://localhost:8080/",
          "height": 297
        }
      },
      "source": [
        "building_df.describe()"
      ],
      "execution_count": 0,
      "outputs": [
        {
          "output_type": "execute_result",
          "data": {
            "text/html": [
              "<div>\n",
              "<style scoped>\n",
              "    .dataframe tbody tr th:only-of-type {\n",
              "        vertical-align: middle;\n",
              "    }\n",
              "\n",
              "    .dataframe tbody tr th {\n",
              "        vertical-align: top;\n",
              "    }\n",
              "\n",
              "    .dataframe thead th {\n",
              "        text-align: right;\n",
              "    }\n",
              "</style>\n",
              "<table border=\"1\" class=\"dataframe\">\n",
              "  <thead>\n",
              "    <tr style=\"text-align: right;\">\n",
              "      <th></th>\n",
              "      <th>site_id</th>\n",
              "      <th>building_id</th>\n",
              "      <th>square_feet</th>\n",
              "      <th>year_built</th>\n",
              "      <th>floor_count</th>\n",
              "    </tr>\n",
              "  </thead>\n",
              "  <tbody>\n",
              "    <tr>\n",
              "      <th>count</th>\n",
              "      <td>1449.000000</td>\n",
              "      <td>1449.000000</td>\n",
              "      <td>1449.000000</td>\n",
              "      <td>1449.000000</td>\n",
              "      <td>1449.000000</td>\n",
              "    </tr>\n",
              "    <tr>\n",
              "      <th>mean</th>\n",
              "      <td>6.952381</td>\n",
              "      <td>724.000000</td>\n",
              "      <td>92111.776398</td>\n",
              "      <td>1972.253278</td>\n",
              "      <td>1.671498</td>\n",
              "    </tr>\n",
              "    <tr>\n",
              "      <th>std</th>\n",
              "      <td>5.003432</td>\n",
              "      <td>418.434583</td>\n",
              "      <td>110769.950997</td>\n",
              "      <td>21.563507</td>\n",
              "      <td>2.026692</td>\n",
              "    </tr>\n",
              "    <tr>\n",
              "      <th>min</th>\n",
              "      <td>0.000000</td>\n",
              "      <td>0.000000</td>\n",
              "      <td>283.000000</td>\n",
              "      <td>1900.000000</td>\n",
              "      <td>1.000000</td>\n",
              "    </tr>\n",
              "    <tr>\n",
              "      <th>25%</th>\n",
              "      <td>3.000000</td>\n",
              "      <td>362.000000</td>\n",
              "      <td>23012.000000</td>\n",
              "      <td>1975.000000</td>\n",
              "      <td>1.000000</td>\n",
              "    </tr>\n",
              "    <tr>\n",
              "      <th>50%</th>\n",
              "      <td>5.000000</td>\n",
              "      <td>724.000000</td>\n",
              "      <td>57673.000000</td>\n",
              "      <td>1976.000000</td>\n",
              "      <td>1.000000</td>\n",
              "    </tr>\n",
              "    <tr>\n",
              "      <th>75%</th>\n",
              "      <td>13.000000</td>\n",
              "      <td>1086.000000</td>\n",
              "      <td>115676.000000</td>\n",
              "      <td>1976.000000</td>\n",
              "      <td>1.000000</td>\n",
              "    </tr>\n",
              "    <tr>\n",
              "      <th>max</th>\n",
              "      <td>15.000000</td>\n",
              "      <td>1448.000000</td>\n",
              "      <td>875000.000000</td>\n",
              "      <td>2017.000000</td>\n",
              "      <td>26.000000</td>\n",
              "    </tr>\n",
              "  </tbody>\n",
              "</table>\n",
              "</div>"
            ],
            "text/plain": [
              "           site_id  building_id    square_feet   year_built  floor_count\n",
              "count  1449.000000  1449.000000    1449.000000  1449.000000  1449.000000\n",
              "mean      6.952381   724.000000   92111.776398  1972.253278     1.671498\n",
              "std       5.003432   418.434583  110769.950997    21.563507     2.026692\n",
              "min       0.000000     0.000000     283.000000  1900.000000     1.000000\n",
              "25%       3.000000   362.000000   23012.000000  1975.000000     1.000000\n",
              "50%       5.000000   724.000000   57673.000000  1976.000000     1.000000\n",
              "75%      13.000000  1086.000000  115676.000000  1976.000000     1.000000\n",
              "max      15.000000  1448.000000  875000.000000  2017.000000    26.000000"
            ]
          },
          "metadata": {
            "tags": []
          },
          "execution_count": 30
        }
      ]
    },
    {
      "cell_type": "code",
      "metadata": {
        "id": "EC4V6mzPGB8p",
        "colab_type": "code",
        "colab": {}
      },
      "source": [
        "#scaling the building_df features\n",
        "building_features_scaling = ['square_feet', 'year_built', 'floor_count']\n",
        "for i in building_features_scaling:\n",
        "  mean=building_df[i].mean(axis=0)\n",
        "  std=building_df[i].std(axis=0)\n",
        "  building_df[i] = building_df[i].astype('float32')\n",
        "  building_df[i]=(building_df[i]-mean)/std"
      ],
      "execution_count": 0,
      "outputs": []
    },
    {
      "cell_type": "code",
      "metadata": {
        "id": "1i2B9umwG1z7",
        "colab_type": "code",
        "outputId": "4ca82ffe-cd6b-43f2-d004-34b38b079482",
        "colab": {
          "base_uri": "https://localhost:8080/",
          "height": 297
        }
      },
      "source": [
        "building_df.describe()"
      ],
      "execution_count": 0,
      "outputs": [
        {
          "output_type": "execute_result",
          "data": {
            "text/html": [
              "<div>\n",
              "<style scoped>\n",
              "    .dataframe tbody tr th:only-of-type {\n",
              "        vertical-align: middle;\n",
              "    }\n",
              "\n",
              "    .dataframe tbody tr th {\n",
              "        vertical-align: top;\n",
              "    }\n",
              "\n",
              "    .dataframe thead th {\n",
              "        text-align: right;\n",
              "    }\n",
              "</style>\n",
              "<table border=\"1\" class=\"dataframe\">\n",
              "  <thead>\n",
              "    <tr style=\"text-align: right;\">\n",
              "      <th></th>\n",
              "      <th>site_id</th>\n",
              "      <th>building_id</th>\n",
              "      <th>square_feet</th>\n",
              "      <th>year_built</th>\n",
              "      <th>floor_count</th>\n",
              "    </tr>\n",
              "  </thead>\n",
              "  <tbody>\n",
              "    <tr>\n",
              "      <th>count</th>\n",
              "      <td>1449.000000</td>\n",
              "      <td>1449.000000</td>\n",
              "      <td>1.449000e+03</td>\n",
              "      <td>1.449000e+03</td>\n",
              "      <td>1.449000e+03</td>\n",
              "    </tr>\n",
              "    <tr>\n",
              "      <th>mean</th>\n",
              "      <td>6.952381</td>\n",
              "      <td>724.000000</td>\n",
              "      <td>-8.002690e-09</td>\n",
              "      <td>-9.438019e-07</td>\n",
              "      <td>-7.823469e-07</td>\n",
              "    </tr>\n",
              "    <tr>\n",
              "      <th>std</th>\n",
              "      <td>5.003432</td>\n",
              "      <td>418.434583</td>\n",
              "      <td>9.999999e-01</td>\n",
              "      <td>9.999917e-01</td>\n",
              "      <td>9.999916e-01</td>\n",
              "    </tr>\n",
              "    <tr>\n",
              "      <th>min</th>\n",
              "      <td>0.000000</td>\n",
              "      <td>0.000000</td>\n",
              "      <td>-8.290043e-01</td>\n",
              "      <td>-3.350721e+00</td>\n",
              "      <td>-3.313269e-01</td>\n",
              "    </tr>\n",
              "    <tr>\n",
              "      <th>25%</th>\n",
              "      <td>3.000000</td>\n",
              "      <td>362.000000</td>\n",
              "      <td>-6.238133e-01</td>\n",
              "      <td>1.273774e-01</td>\n",
              "      <td>-3.313269e-01</td>\n",
              "    </tr>\n",
              "    <tr>\n",
              "      <th>50%</th>\n",
              "      <td>5.000000</td>\n",
              "      <td>724.000000</td>\n",
              "      <td>-3.109036e-01</td>\n",
              "      <td>1.737521e-01</td>\n",
              "      <td>-3.313269e-01</td>\n",
              "    </tr>\n",
              "    <tr>\n",
              "      <th>75%</th>\n",
              "      <td>13.000000</td>\n",
              "      <td>1086.000000</td>\n",
              "      <td>2.127312e-01</td>\n",
              "      <td>1.737521e-01</td>\n",
              "      <td>-3.313269e-01</td>\n",
              "    </tr>\n",
              "    <tr>\n",
              "      <th>max</th>\n",
              "      <td>15.000000</td>\n",
              "      <td>1448.000000</td>\n",
              "      <td>7.067695e+00</td>\n",
              "      <td>2.075113e+00</td>\n",
              "      <td>1.200404e+01</td>\n",
              "    </tr>\n",
              "  </tbody>\n",
              "</table>\n",
              "</div>"
            ],
            "text/plain": [
              "           site_id  building_id   square_feet    year_built   floor_count\n",
              "count  1449.000000  1449.000000  1.449000e+03  1.449000e+03  1.449000e+03\n",
              "mean      6.952381   724.000000 -8.002690e-09 -9.438019e-07 -7.823469e-07\n",
              "std       5.003432   418.434583  9.999999e-01  9.999917e-01  9.999916e-01\n",
              "min       0.000000     0.000000 -8.290043e-01 -3.350721e+00 -3.313269e-01\n",
              "25%       3.000000   362.000000 -6.238133e-01  1.273774e-01 -3.313269e-01\n",
              "50%       5.000000   724.000000 -3.109036e-01  1.737521e-01 -3.313269e-01\n",
              "75%      13.000000  1086.000000  2.127312e-01  1.737521e-01 -3.313269e-01\n",
              "max      15.000000  1448.000000  7.067695e+00  2.075113e+00  1.200404e+01"
            ]
          },
          "metadata": {
            "tags": []
          },
          "execution_count": 32
        }
      ]
    },
    {
      "cell_type": "code",
      "metadata": {
        "id": "gicZINALG-9X",
        "colab_type": "code",
        "colab": {}
      },
      "source": [
        "#dealing with categorical feature primary_use\n",
        "building_df = pd.get_dummies(building_df, columns=['primary_use'])"
      ],
      "execution_count": 0,
      "outputs": []
    },
    {
      "cell_type": "code",
      "metadata": {
        "id": "xh1taF_yHDm4",
        "colab_type": "code",
        "colab": {}
      },
      "source": [
        ""
      ],
      "execution_count": 0,
      "outputs": []
    },
    {
      "cell_type": "code",
      "metadata": {
        "id": "_hSmTcy_HD0W",
        "colab_type": "code",
        "colab": {}
      },
      "source": [
        ""
      ],
      "execution_count": 0,
      "outputs": []
    },
    {
      "cell_type": "markdown",
      "metadata": {
        "id": "9LuqKK0SKIly",
        "colab_type": "text"
      },
      "source": [
        "# **Preparation for train data**"
      ]
    },
    {
      "cell_type": "code",
      "metadata": {
        "id": "JFUhuk6QKORm",
        "colab_type": "code",
        "colab": {}
      },
      "source": [
        "weather_train_df.timestamp = pd.to_datetime(weather_train_df.timestamp, format=\"%Y-%m-%d %H:%M:%S\")"
      ],
      "execution_count": 0,
      "outputs": []
    },
    {
      "cell_type": "code",
      "metadata": {
        "id": "yREgfOPWKOa0",
        "colab_type": "code",
        "colab": {}
      },
      "source": [
        "train_df.timestamp = pd.to_datetime(train_df.timestamp, format=\"%Y-%m-%d %H:%M:%S\")"
      ],
      "execution_count": 0,
      "outputs": []
    },
    {
      "cell_type": "code",
      "metadata": {
        "id": "QbaY5abrKOeM",
        "colab_type": "code",
        "colab": {}
      },
      "source": [
        "#Using the timestamp attribut to add 4 new columns that represent the month , weekday,year and hour\n",
        "train_df['month'] =train_df['timestamp'].dt.month\n",
        "train_df['day'] =train_df['timestamp'].dt.weekday\n",
        "train_df['year'] =train_df['timestamp'].dt.year\n",
        "train_df['hour'] = train_df['timestamp'].dt.hour"
      ],
      "execution_count": 0,
      "outputs": []
    },
    {
      "cell_type": "code",
      "metadata": {
        "id": "stiKljQ6LK4a",
        "colab_type": "code",
        "colab": {}
      },
      "source": [
        "#normalisation and scaling for the target \n",
        "train_df['meter_reading'] = np.log1p(train_df['meter_reading'])\n",
        "#scaling\n",
        "mean=train_df['meter_reading'].mean(axis=0)\n",
        "std=train_df['meter_reading'].std(axis=0)\n",
        "train_df['meter_reading'] = train_df['meter_reading'].astype('float32')\n",
        "train_df['meter_reading']=(train_df['meter_reading']-mean)/std\n"
      ],
      "execution_count": 0,
      "outputs": []
    },
    {
      "cell_type": "code",
      "metadata": {
        "id": "nAgUtyZELK0_",
        "colab_type": "code",
        "colab": {}
      },
      "source": [
        "#dealing with the categorical feature meter\n",
        "train_df = pd.get_dummies(train_df, columns=['meter'])"
      ],
      "execution_count": 0,
      "outputs": []
    },
    {
      "cell_type": "code",
      "metadata": {
        "id": "vPmN0KXoLKys",
        "colab_type": "code",
        "colab": {}
      },
      "source": [
        ""
      ],
      "execution_count": 0,
      "outputs": []
    },
    {
      "cell_type": "code",
      "metadata": {
        "id": "2JWaZFzcMSNp",
        "colab_type": "code",
        "colab": {}
      },
      "source": [
        ""
      ],
      "execution_count": 0,
      "outputs": []
    },
    {
      "cell_type": "markdown",
      "metadata": {
        "id": "ZaUFhq8bMSuB",
        "colab_type": "text"
      },
      "source": [
        "# **Merging data**"
      ]
    },
    {
      "cell_type": "code",
      "metadata": {
        "id": "45_vCDqPMV9Q",
        "colab_type": "code",
        "colab": {}
      },
      "source": [
        "X_train=train_df"
      ],
      "execution_count": 0,
      "outputs": []
    },
    {
      "cell_type": "code",
      "metadata": {
        "id": "ny5jTZOgMXIw",
        "colab_type": "code",
        "colab": {}
      },
      "source": [
        "X_train= X_train.merge(building_df, on=\"building_id\", how=\"left\") "
      ],
      "execution_count": 0,
      "outputs": []
    },
    {
      "cell_type": "code",
      "metadata": {
        "id": "aOuxW9pcMXMZ",
        "colab_type": "code",
        "colab": {}
      },
      "source": [
        "X_train = pd.merge_asof(X_train, weather_train_df, on='timestamp', by='site_id', right_index=True)"
      ],
      "execution_count": 0,
      "outputs": []
    },
    {
      "cell_type": "code",
      "metadata": {
        "id": "4LA5qBCgTUSU",
        "colab_type": "code",
        "colab": {}
      },
      "source": [
        ""
      ],
      "execution_count": 0,
      "outputs": []
    },
    {
      "cell_type": "markdown",
      "metadata": {
        "id": "nkDHoSw9hPt7",
        "colab_type": "text"
      },
      "source": [
        "# **Modeling using LSTM**"
      ]
    },
    {
      "cell_type": "code",
      "metadata": {
        "id": "7xJNpITlTUWF",
        "colab_type": "code",
        "colab": {}
      },
      "source": [
        "#Preparing data for the network using data generator\n",
        "from keras.utils import Sequence\n",
        "class DataGenerator(Sequence):\n",
        "    \n",
        "    def __init__(self, data, list_IDs, features, batch_size, shuffle=False):\n",
        "        self.data = data.loc[list_IDs].copy() #the data values\n",
        "        self.list_IDs = list_IDs # the ids of the samples\n",
        "        self.features = features #the features of the target\n",
        "        self.batch_size = batch_size\n",
        "        self.shuffle = shuffle \n",
        "        self.on_epoch_end()\n",
        "    \n",
        "    \n",
        "    def __len__(self):\n",
        "        return int(np.floor(len(self.list_IDs)/self.batch_size))\n",
        "    \n",
        "    \n",
        "    def __getitem__(self, index): \n",
        "        indexes = self.indexes[index*self.batch_size:(index+1)*self.batch_size]\n",
        "        list_IDs_temp = [self.list_IDs[k] for k in indexes]\n",
        "        X, y = self.__data_generation(list_IDs_temp)\n",
        "        return X, y\n",
        "    \n",
        "    # take random ids for each epoch so that two epoch couldn't be similar\n",
        "    def on_epoch_end(self):\n",
        "        self.indexes = np.arange(len(self.list_IDs))\n",
        "        if self.shuffle == True:\n",
        "            np.random.shuffle(self.indexes)\n",
        "\n",
        "        \n",
        "    def __data_generation(self, list_IDs_temp):        \n",
        "        X = np.empty((len(list_IDs_temp), len(self.features)), dtype=float)\n",
        "        y = np.empty((len(list_IDs_temp), 1), dtype=float)\n",
        "        X = self.data.loc[list_IDs_temp, self.features].values\n",
        "        \n",
        "        if 'meter_reading' in self.data.columns:\n",
        "            y = self.data.loc[list_IDs_temp, 'meter_reading'].values\n",
        "        # reshape\n",
        "        X = np.reshape(X, (X.shape[0], 1, X.shape[1]))\n",
        "        return X, y\n",
        "\n"
      ],
      "execution_count": 0,
      "outputs": []
    },
    {
      "cell_type": "code",
      "metadata": {
        "id": "Z3P2I22KTVQf",
        "colab_type": "code",
        "outputId": "ebfa8c22-47c5-4812-b487-0f4e2b7f5d85",
        "colab": {
          "base_uri": "https://localhost:8080/",
          "height": 34
        }
      },
      "source": [
        "train_size = int(len(X_train.index)*0.8)\n",
        "val_size = len(X_train.index) - train_size\n",
        "#preparing the ids of the samples\n",
        "train_list, val_list = X_train.index[0:train_size], X_train.index[train_size:train_size+val_size]\n",
        "print(train_size, val_size)"
      ],
      "execution_count": 35,
      "outputs": [
        {
          "output_type": "stream",
          "text": [
            "16172880 4043220\n"
          ],
          "name": "stdout"
        }
      ]
    },
    {
      "cell_type": "code",
      "metadata": {
        "id": "RCxC0JtCYZkW",
        "colab_type": "code",
        "colab": {}
      },
      "source": [
        "import keras.backend as K\n",
        "def rmse(y_true, y_pred):\n",
        "    \"\"\" root_mean_squared_error \"\"\"\n",
        "    return K.sqrt(K.mean(K.square(y_pred - y_true)))"
      ],
      "execution_count": 0,
      "outputs": []
    },
    {
      "cell_type": "code",
      "metadata": {
        "id": "I4TUM2P6Ykfn",
        "colab_type": "code",
        "outputId": "6ac8d679-469d-42af-aa36-dc03a9e90f38",
        "colab": {
          "base_uri": "https://localhost:8080/",
          "height": 255
        }
      },
      "source": [
        "#preparing the list of the features that we consider using\n",
        "no_features = ['building_id', 'timestamp', 'meter_reading', 'year']\n",
        "features = X_train.columns.difference(no_features)\n",
        "features"
      ],
      "execution_count": 37,
      "outputs": [
        {
          "output_type": "execute_result",
          "data": {
            "text/plain": [
              "Index(['air_temperature', 'cloud_coverage', 'day', 'dew_temperature',\n",
              "       'floor_count', 'hour', 'meter_0', 'meter_1', 'meter_2', 'meter_3',\n",
              "       'month', 'precip_depth_1_hr', 'primary_use_Education',\n",
              "       'primary_use_Entertainment/public assembly',\n",
              "       'primary_use_Food sales and service', 'primary_use_Healthcare',\n",
              "       'primary_use_Lodging/residential',\n",
              "       'primary_use_Manufacturing/industrial', 'primary_use_Office',\n",
              "       'primary_use_Other', 'primary_use_Parking',\n",
              "       'primary_use_Public services', 'primary_use_Religious worship',\n",
              "       'primary_use_Retail', 'primary_use_Services',\n",
              "       'primary_use_Technology/science', 'primary_use_Utility',\n",
              "       'primary_use_Warehouse/storage', 'sea_level_pressure', 'site_id',\n",
              "       'square_feet', 'wind_direction', 'wind_speed', 'year_built'],\n",
              "      dtype='object')"
            ]
          },
          "metadata": {
            "tags": []
          },
          "execution_count": 37
        }
      ]
    },
    {
      "cell_type": "code",
      "metadata": {
        "id": "u9ZtguDaYo2u",
        "colab_type": "code",
        "colab": {}
      },
      "source": [
        "batch_size = 10000\n",
        "#Fixing the data for the train and the validation\n",
        "train_generator = DataGenerator( X_train, train_list, features, batch_size)\n",
        "val_generator = DataGenerator( X_train, val_list, features, batch_size)"
      ],
      "execution_count": 0,
      "outputs": []
    },
    {
      "cell_type": "code",
      "metadata": {
        "id": "78SFsPBTTyb-",
        "colab_type": "code",
        "colab": {
          "base_uri": "https://localhost:8080/",
          "height": 139
        },
        "outputId": "515c420a-be85-41c1-c070-a767d8a8b3ca"
      },
      "source": [
        "import warnings\n",
        "warnings.filterwarnings(\"ignore\")\n",
        "model = Sequential()\n",
        "model.add(LSTM(units=100, activation = 'relu', input_shape=(1, len(features))))\n",
        "model.add(Dropout(0,15))\n",
        "model.add(Dense(1, activation='relu'))"
      ],
      "execution_count": 39,
      "outputs": [
        {
          "output_type": "stream",
          "text": [
            "WARNING:tensorflow:From /usr/local/lib/python3.6/dist-packages/keras/backend/tensorflow_backend.py:66: The name tf.get_default_graph is deprecated. Please use tf.compat.v1.get_default_graph instead.\n",
            "\n",
            "WARNING:tensorflow:From /usr/local/lib/python3.6/dist-packages/keras/backend/tensorflow_backend.py:541: The name tf.placeholder is deprecated. Please use tf.compat.v1.placeholder instead.\n",
            "\n",
            "WARNING:tensorflow:From /usr/local/lib/python3.6/dist-packages/keras/backend/tensorflow_backend.py:4432: The name tf.random_uniform is deprecated. Please use tf.random.uniform instead.\n",
            "\n"
          ],
          "name": "stdout"
        }
      ]
    },
    {
      "cell_type": "code",
      "metadata": {
        "id": "mmmHmL6wYsUn",
        "colab_type": "code",
        "outputId": "f1df586a-7e1c-446f-c838-b50e3dce5f60",
        "colab": {
          "base_uri": "https://localhost:8080/",
          "height": 1000
        }
      },
      "source": [
        "from keras.optimizers import RMSprop,Adam\n",
        "model.compile(optimizer = Adam(lr=1e-4),\n",
        "              loss='mse',\n",
        "              metrics=[rmse])\n",
        "history = model.fit_generator(generator=train_generator,\n",
        "                              validation_data=val_generator,\n",
        "                              epochs = 20)"
      ],
      "execution_count": 40,
      "outputs": [
        {
          "output_type": "stream",
          "text": [
            "WARNING:tensorflow:From /usr/local/lib/python3.6/dist-packages/keras/optimizers.py:793: The name tf.train.Optimizer is deprecated. Please use tf.compat.v1.train.Optimizer instead.\n",
            "\n",
            "WARNING:tensorflow:From /usr/local/lib/python3.6/dist-packages/tensorflow_core/python/ops/math_grad.py:1424: where (from tensorflow.python.ops.array_ops) is deprecated and will be removed in a future version.\n",
            "Instructions for updating:\n",
            "Use tf.where in 2.0, which has the same broadcast rule as np.where\n",
            "WARNING:tensorflow:From /usr/local/lib/python3.6/dist-packages/keras/backend/tensorflow_backend.py:1033: The name tf.assign_add is deprecated. Please use tf.compat.v1.assign_add instead.\n",
            "\n",
            "WARNING:tensorflow:From /usr/local/lib/python3.6/dist-packages/keras/backend/tensorflow_backend.py:1020: The name tf.assign is deprecated. Please use tf.compat.v1.assign instead.\n",
            "\n",
            "WARNING:tensorflow:From /usr/local/lib/python3.6/dist-packages/keras/backend/tensorflow_backend.py:3005: The name tf.Session is deprecated. Please use tf.compat.v1.Session instead.\n",
            "\n",
            "Epoch 1/20\n",
            "WARNING:tensorflow:From /usr/local/lib/python3.6/dist-packages/keras/backend/tensorflow_backend.py:190: The name tf.get_default_session is deprecated. Please use tf.compat.v1.get_default_session instead.\n",
            "\n",
            "WARNING:tensorflow:From /usr/local/lib/python3.6/dist-packages/keras/backend/tensorflow_backend.py:197: The name tf.ConfigProto is deprecated. Please use tf.compat.v1.ConfigProto instead.\n",
            "\n",
            "WARNING:tensorflow:From /usr/local/lib/python3.6/dist-packages/keras/backend/tensorflow_backend.py:207: The name tf.global_variables is deprecated. Please use tf.compat.v1.global_variables instead.\n",
            "\n",
            "WARNING:tensorflow:From /usr/local/lib/python3.6/dist-packages/keras/backend/tensorflow_backend.py:216: The name tf.is_variable_initialized is deprecated. Please use tf.compat.v1.is_variable_initialized instead.\n",
            "\n",
            "WARNING:tensorflow:From /usr/local/lib/python3.6/dist-packages/keras/backend/tensorflow_backend.py:223: The name tf.variables_initializer is deprecated. Please use tf.compat.v1.variables_initializer instead.\n",
            "\n",
            "1617/1617 [==============================] - 828s 512ms/step - loss: 1.2694 - rmse: 1.0826 - val_loss: 1.0075 - val_rmse: 1.0033\n",
            "Epoch 2/20\n",
            "1617/1617 [==============================] - 831s 514ms/step - loss: 1.0875 - rmse: 1.0413 - val_loss: 1.0075 - val_rmse: 1.0033\n",
            "Epoch 3/20\n",
            "1617/1617 [==============================] - 832s 514ms/step - loss: 1.0875 - rmse: 1.0413 - val_loss: 1.0075 - val_rmse: 1.0033\n",
            "Epoch 4/20\n",
            "1617/1617 [==============================] - 829s 512ms/step - loss: 1.0875 - rmse: 1.0413 - val_loss: 1.0075 - val_rmse: 1.0033\n",
            "Epoch 5/20\n",
            "1617/1617 [==============================] - 826s 511ms/step - loss: 1.0875 - rmse: 1.0413 - val_loss: 1.0075 - val_rmse: 1.0033\n",
            "Epoch 6/20\n",
            "1617/1617 [==============================] - 827s 512ms/step - loss: 1.0875 - rmse: 1.0413 - val_loss: 1.0075 - val_rmse: 1.0033\n",
            "Epoch 7/20\n",
            "1617/1617 [==============================] - 830s 513ms/step - loss: 1.0875 - rmse: 1.0413 - val_loss: 1.0075 - val_rmse: 1.0033\n",
            "Epoch 8/20\n",
            "1617/1617 [==============================] - 832s 514ms/step - loss: 1.0875 - rmse: 1.0413 - val_loss: 1.0075 - val_rmse: 1.0033\n",
            "Epoch 9/20\n",
            "1617/1617 [==============================] - 832s 514ms/step - loss: 1.0875 - rmse: 1.0413 - val_loss: 1.0075 - val_rmse: 1.0033\n",
            "Epoch 10/20\n",
            "1617/1617 [==============================] - 833s 515ms/step - loss: 1.0875 - rmse: 1.0413 - val_loss: 1.0075 - val_rmse: 1.0033\n",
            "Epoch 11/20\n",
            "1617/1617 [==============================] - 835s 516ms/step - loss: 1.0875 - rmse: 1.0413 - val_loss: 1.0075 - val_rmse: 1.0033\n",
            "Epoch 12/20\n",
            "1617/1617 [==============================] - 830s 513ms/step - loss: 1.0875 - rmse: 1.0413 - val_loss: 1.0075 - val_rmse: 1.0033\n",
            "Epoch 13/20\n",
            "1617/1617 [==============================] - 830s 513ms/step - loss: 1.0875 - rmse: 1.0413 - val_loss: 1.0075 - val_rmse: 1.0033\n",
            "Epoch 14/20\n",
            "1617/1617 [==============================] - 832s 514ms/step - loss: 1.0875 - rmse: 1.0413 - val_loss: 1.0075 - val_rmse: 1.0033\n",
            "Epoch 15/20\n",
            "1617/1617 [==============================] - 836s 517ms/step - loss: 1.0875 - rmse: 1.0413 - val_loss: 1.0075 - val_rmse: 1.0033\n",
            "Epoch 16/20\n",
            "1617/1617 [==============================] - 837s 518ms/step - loss: 1.0875 - rmse: 1.0413 - val_loss: 1.0075 - val_rmse: 1.0033\n",
            "Epoch 17/20\n",
            "1617/1617 [==============================] - 835s 516ms/step - loss: 1.0875 - rmse: 1.0413 - val_loss: 1.0075 - val_rmse: 1.0033\n",
            "Epoch 18/20\n",
            "1617/1617 [==============================] - 835s 516ms/step - loss: 1.0875 - rmse: 1.0413 - val_loss: 1.0075 - val_rmse: 1.0033\n",
            "Epoch 19/20\n",
            "1617/1617 [==============================] - 833s 515ms/step - loss: 1.0875 - rmse: 1.0413 - val_loss: 1.0075 - val_rmse: 1.0033\n",
            "Epoch 20/20\n",
            "1617/1617 [==============================] - 830s 513ms/step - loss: 1.0875 - rmse: 1.0413 - val_loss: 1.0075 - val_rmse: 1.0033\n"
          ],
          "name": "stdout"
        }
      ]
    },
    {
      "cell_type": "code",
      "metadata": {
        "id": "GR7T_jNDhLkq",
        "colab_type": "code",
        "colab": {}
      },
      "source": [
        "# serialize model to JSON\n",
        "model_json = model.to_json()\n",
        "#saving the model\n",
        "with open(\"model.json\", \"w\") as json_file:\n",
        "    json_file.write(model_json)\n",
        "# serialize weights to HDF5\n",
        "model.save_weights(\"model.h5\")\n",
        "print(\"Saved model to disk\")"
      ],
      "execution_count": 0,
      "outputs": []
    },
    {
      "cell_type": "code",
      "metadata": {
        "id": "a_q7fSlKEm39",
        "colab_type": "code",
        "colab": {}
      },
      "source": [
        "from keras.models import model_from_json\n",
        "from keras.optimizers import RMSprop,Adam\n",
        "import json\n",
        "#loading the saved model\n",
        "json_file = open('/content/model.json', 'r')\n",
        "loaded_json_model = json_file.read()"
      ],
      "execution_count": 0,
      "outputs": []
    },
    {
      "cell_type": "code",
      "metadata": {
        "id": "cl3QRSA7c3fA",
        "colab_type": "code",
        "outputId": "83495c8d-b5dc-4057-a120-14a204643515",
        "colab": {
          "base_uri": "https://localhost:8080/",
          "height": 394
        }
      },
      "source": [
        "# load json and create model\n",
        "json_file.close()\n",
        "loaded_model = model_from_json(loaded_json_model)\n",
        "loaded_model.load_weights(\"/content/model.h5\")\n",
        "print(\"Loaded model from disk\")\n",
        " \n",
        "# evaluate loaded model on test data\n",
        "loaded_model.compile(loss='mse',optimizer =Adam(lr=1e-4) ,metrics=[rmse])\n"
      ],
      "execution_count": 19,
      "outputs": [
        {
          "output_type": "stream",
          "text": [
            "WARNING:tensorflow:From /usr/local/lib/python3.6/dist-packages/keras/backend/tensorflow_backend.py:66: The name tf.get_default_graph is deprecated. Please use tf.compat.v1.get_default_graph instead.\n",
            "\n",
            "WARNING:tensorflow:From /usr/local/lib/python3.6/dist-packages/keras/backend/tensorflow_backend.py:541: The name tf.placeholder is deprecated. Please use tf.compat.v1.placeholder instead.\n",
            "\n",
            "WARNING:tensorflow:From /usr/local/lib/python3.6/dist-packages/keras/backend/tensorflow_backend.py:4432: The name tf.random_uniform is deprecated. Please use tf.random.uniform instead.\n",
            "\n",
            "WARNING:tensorflow:From /usr/local/lib/python3.6/dist-packages/keras/backend/tensorflow_backend.py:190: The name tf.get_default_session is deprecated. Please use tf.compat.v1.get_default_session instead.\n",
            "\n",
            "WARNING:tensorflow:From /usr/local/lib/python3.6/dist-packages/keras/backend/tensorflow_backend.py:197: The name tf.ConfigProto is deprecated. Please use tf.compat.v1.ConfigProto instead.\n",
            "\n",
            "WARNING:tensorflow:From /usr/local/lib/python3.6/dist-packages/keras/backend/tensorflow_backend.py:203: The name tf.Session is deprecated. Please use tf.compat.v1.Session instead.\n",
            "\n",
            "WARNING:tensorflow:From /usr/local/lib/python3.6/dist-packages/keras/backend/tensorflow_backend.py:207: The name tf.global_variables is deprecated. Please use tf.compat.v1.global_variables instead.\n",
            "\n",
            "WARNING:tensorflow:From /usr/local/lib/python3.6/dist-packages/keras/backend/tensorflow_backend.py:216: The name tf.is_variable_initialized is deprecated. Please use tf.compat.v1.is_variable_initialized instead.\n",
            "\n",
            "WARNING:tensorflow:From /usr/local/lib/python3.6/dist-packages/keras/backend/tensorflow_backend.py:223: The name tf.variables_initializer is deprecated. Please use tf.compat.v1.variables_initializer instead.\n",
            "\n",
            "Loaded model from disk\n",
            "WARNING:tensorflow:From /usr/local/lib/python3.6/dist-packages/keras/optimizers.py:793: The name tf.train.Optimizer is deprecated. Please use tf.compat.v1.train.Optimizer instead.\n",
            "\n"
          ],
          "name": "stdout"
        }
      ]
    },
    {
      "cell_type": "code",
      "metadata": {
        "id": "gRo32UB6meQa",
        "colab_type": "code",
        "colab": {
          "base_uri": "https://localhost:8080/",
          "height": 272
        },
        "outputId": "f4f98649-9430-42fa-d338-24b924f4b6a6"
      },
      "source": [
        "print(loaded_model.summary())"
      ],
      "execution_count": 32,
      "outputs": [
        {
          "output_type": "stream",
          "text": [
            "Model: \"sequential_1\"\n",
            "_________________________________________________________________\n",
            "Layer (type)                 Output Shape              Param #   \n",
            "=================================================================\n",
            "lstm_1 (LSTM)                (None, 100)               54000     \n",
            "_________________________________________________________________\n",
            "dropout_1 (Dropout)          (None, 100)               0         \n",
            "_________________________________________________________________\n",
            "dense_1 (Dense)              (None, 1)                 101       \n",
            "=================================================================\n",
            "Total params: 54,101\n",
            "Trainable params: 54,101\n",
            "Non-trainable params: 0\n",
            "_________________________________________________________________\n",
            "None\n"
          ],
          "name": "stdout"
        }
      ]
    },
    {
      "cell_type": "markdown",
      "metadata": {
        "id": "iXnkh4jThoUh",
        "colab_type": "text"
      },
      "source": [
        "# Preparing the test dataset "
      ]
    },
    {
      "cell_type": "code",
      "metadata": {
        "id": "pbzz1mlyhLgC",
        "colab_type": "code",
        "colab": {}
      },
      "source": [
        "#dealing with missing values\n",
        "missing_weather_test = [col for col in weather_test_df.columns if weather_test_df[col].isnull().any()]\n",
        "weather_test_df[missing_weather_test] = imp_most.fit_transform(weather_test_df[missing_weather_test])\n"
      ],
      "execution_count": 0,
      "outputs": []
    },
    {
      "cell_type": "code",
      "metadata": {
        "id": "xjhmBYeZiEvb",
        "colab_type": "code",
        "colab": {}
      },
      "source": [
        "#scaling the weather test data\n",
        "weather_features_scaling = ['air_temperature', 'cloud_coverage', 'dew_temperature', 'sea_level_pressure', 'wind_speed','precip_depth_1_hr']\n",
        "for i in weather_features_scaling:\n",
        "  mean=weather_test_df[i].mean(axis=0)\n",
        "  std=weather_test_df[i].std(axis=0)\n",
        "  weather_test_df[i] = weather_test_df[i].astype('float32')\n",
        "  weather_test_df[i]=(weather_test_df[i]-mean)/std"
      ],
      "execution_count": 0,
      "outputs": []
    },
    {
      "cell_type": "code",
      "metadata": {
        "id": "vRPb6ISgvZCT",
        "colab_type": "code",
        "colab": {
          "base_uri": "https://localhost:8080/",
          "height": 867
        },
        "outputId": "f716b7d8-6ac1-467a-b60d-33913872504a"
      },
      "source": [
        "nrows = 1667904\n",
        "batch_size = 1022\n",
        "steps = 25\n",
        "result = np.empty(()) #empty array in which the data will be stocked\n",
        "for i in range(0, steps):\n",
        "    print('work on step ', (i+1))\n",
        "    #selecting nrows from the dataset\n",
        "    test_df = pd.read_csv('test.csv.zip', skiprows=range(1,i*(nrows)+1), nrows=nrows, parse_dates=['timestamp'])\n",
        "     #Preprocessing the test data\n",
        "    test_df.timestamp = pd.to_datetime(test_df.timestamp, format=\"%Y-%m-%d %H:%M:%S\")\n",
        "    test_df['month'] = test_df['timestamp'].dt.month\n",
        "    test_df['day'] = test_df['timestamp'].dt.weekday\n",
        "    test_df['year'] = test_df['timestamp'].dt.year\n",
        "    test_df['hour'] = test_df['timestamp'].dt.hour\n",
        "    test_df['weekend'] = np.where((test_df['day'] == 5) | (test_df['day'] == 6), 1, 0)\n",
        "    test_df = pd.get_dummies(test_df, columns=['meter'])\n",
        "    #Merging the data\n",
        "    test_df = pd.merge(test_df, building_df, on='building_id', right_index=True)\n",
        "    test_df = test_df.sort_values(['timestamp'])\n",
        "    test_df = pd.merge_asof(test_df, weather_test_df, on='timestamp', by='site_id', right_index=True)\n",
        "    test_df = test_df.sort_values(['row_id'])\n",
        "    #the features we are going to work on\n",
        "    features=['air_temperature', 'cloud_coverage', 'day', 'dew_temperature',\n",
        "       'floor_count', 'hour', 'meter_0', 'meter_1', 'meter_2', 'meter_3',\n",
        "       'month', 'precip_depth_1_hr', 'primary_use_Education',\n",
        "       'primary_use_Entertainment/public assembly',\n",
        "       'primary_use_Food sales and service', 'primary_use_Healthcare',\n",
        "       'primary_use_Lodging/residential',\n",
        "       'primary_use_Manufacturing/industrial', 'primary_use_Office',\n",
        "       'primary_use_Other', 'primary_use_Parking',\n",
        "       'primary_use_Public services', 'primary_use_Religious worship',\n",
        "       'primary_use_Retail', 'primary_use_Services',\n",
        "       'primary_use_Technology/science', 'primary_use_Utility',\n",
        "       'primary_use_Warehouse/storage', 'sea_level_pressure', 'site_id',\n",
        "       'square_feet', 'wind_direction', 'wind_speed', 'year_built']\n",
        "\n",
        "    for feature in features:\n",
        "        if feature not in test_df:\n",
        "            test_df[feature] = 0\n",
        "    #Reshaping the data using the data geenrator class\n",
        "    test_generator = DataGenerator(test_df, test_df.index, features, batch_size)\n",
        "    #Prediction\n",
        "    y_predict = loaded_model.predict_generator(test_generator, verbose=1, workers=1)\n",
        "    #undo the log normalisation we applied before\n",
        "    y_predict = np.expm1(y_predict)\n",
        "    #stocking the prediction redult\n",
        "    result = np.vstack((result, y_predict))\n",
        "    del test_df\n",
        "    del test_generator"
      ],
      "execution_count": 23,
      "outputs": [
        {
          "output_type": "stream",
          "text": [
            "work on step  1\n",
            "1632/1632 [==============================] - 139s 85ms/step\n",
            "work on step  2\n",
            "1632/1632 [==============================] - 121s 74ms/step\n",
            "work on step  3\n",
            "1632/1632 [==============================] - 119s 73ms/step\n",
            "work on step  4\n",
            "1632/1632 [==============================] - 117s 72ms/step\n",
            "work on step  5\n",
            "1632/1632 [==============================] - 123s 75ms/step\n",
            "work on step  6\n",
            "1632/1632 [==============================] - 119s 73ms/step\n",
            "work on step  7\n",
            "1632/1632 [==============================] - 124s 76ms/step\n",
            "work on step  8\n",
            "1632/1632 [==============================] - 126s 77ms/step\n",
            "work on step  9\n",
            "1632/1632 [==============================] - 118s 72ms/step\n",
            "work on step  10\n",
            "1632/1632 [==============================] - 135s 83ms/step\n",
            "work on step  11\n",
            "1632/1632 [==============================] - 119s 73ms/step\n",
            "work on step  12\n",
            "1632/1632 [==============================] - 116s 71ms/step\n",
            "work on step  13\n",
            "1632/1632 [==============================] - 117s 71ms/step\n",
            "work on step  14\n",
            "1632/1632 [==============================] - 121s 74ms/step\n",
            "work on step  15\n",
            "1632/1632 [==============================] - 119s 73ms/step\n",
            "work on step  16\n",
            "1632/1632 [==============================] - 129s 79ms/step\n",
            "work on step  17\n",
            "1632/1632 [==============================] - 120s 73ms/step\n",
            "work on step  18\n",
            "1632/1632 [==============================] - 133s 81ms/step\n",
            "work on step  19\n",
            "1632/1632 [==============================] - 123s 75ms/step\n",
            "work on step  20\n",
            "1632/1632 [==============================] - 123s 75ms/step\n",
            "work on step  21\n",
            "1632/1632 [==============================] - 109s 67ms/step\n",
            "work on step  22\n",
            "1632/1632 [==============================] - 106s 65ms/step\n",
            "work on step  23\n",
            "1632/1632 [==============================] - 121s 74ms/step\n",
            "work on step  24\n",
            "1632/1632 [==============================] - 126s 78ms/step\n",
            "work on step  25\n",
            "1632/1632 [==============================] - 114s 70ms/step\n"
          ],
          "name": "stdout"
        }
      ]
    },
    {
      "cell_type": "code",
      "metadata": {
        "id": "PqeHg6dJ8wRC",
        "colab_type": "code",
        "colab": {
          "base_uri": "https://localhost:8080/",
          "height": 34
        },
        "outputId": "99ecc5fc-defd-4d61-e621-4de4f8bafa24"
      },
      "source": [
        "resultat  = result\n",
        "resultat = np.delete(resultat, (0), axis=0)\n",
        "resultat.size"
      ],
      "execution_count": 24,
      "outputs": [
        {
          "output_type": "execute_result",
          "data": {
            "text/plain": [
              "41697600"
            ]
          },
          "metadata": {
            "tags": []
          },
          "execution_count": 24
        }
      ]
    },
    {
      "cell_type": "code",
      "metadata": {
        "id": "Usi1zkQAlM4O",
        "colab_type": "code",
        "colab": {}
      },
      "source": [
        "submit = pd.read_csv('sample_submission.csv.zip')\n",
        "submit['meter_reading'] = resultat\n",
        "\n"
      ],
      "execution_count": 0,
      "outputs": []
    },
    {
      "cell_type": "code",
      "metadata": {
        "id": "EPEhRnbTM81F",
        "colab_type": "code",
        "colab": {}
      },
      "source": [
        "#Saving the result to a csv file \n",
        "submit.to_csv('submit.csv', index=False,float_format='%.4f')"
      ],
      "execution_count": 0,
      "outputs": []
    },
    {
      "cell_type": "code",
      "metadata": {
        "id": "2SDjjKc4yJNT",
        "colab_type": "code",
        "colab": {
          "base_uri": "https://localhost:8080/",
          "height": 68
        },
        "outputId": "ebca4016-6ba0-4f41-f48e-fef2d87862e3"
      },
      "source": [
        "!kaggle competitions submit -c ashrae-energy-prediction -f submit.csv -m \"Message\""
      ],
      "execution_count": 32,
      "outputs": [
        {
          "output_type": "stream",
          "text": [
            "Warning: Looks like you're using an outdated API Version, please consider updating (server 1.5.6 / client 1.5.4)\n",
            "100% 626M/626M [00:13<00:00, 50.2MB/s]\n",
            "Successfully submitted to ASHRAE - Great Energy Predictor III"
          ],
          "name": "stdout"
        }
      ]
    },
    {
      "cell_type": "code",
      "metadata": {
        "id": "KNCE60HYyJcI",
        "colab_type": "code",
        "colab": {}
      },
      "source": [
        ""
      ],
      "execution_count": 0,
      "outputs": []
    }
  ]
}